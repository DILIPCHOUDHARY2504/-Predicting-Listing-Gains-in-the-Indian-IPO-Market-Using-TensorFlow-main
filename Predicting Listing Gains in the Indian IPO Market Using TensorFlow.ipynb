{
 "cells": [
  {
   "cell_type": "markdown",
   "id": "931357e1-c805-4bb5-b0ab-061723046d4f",
   "metadata": {},
   "source": [
    "#### Introduction\n",
    "In this project I worked on the Initial Public Offerings (IPO) in the Indian market. I build a deep learning classification model to determine if there will be listing gains for the IPO. Listing gains are the percentage increase in the share price of a company from its IPO issue price on the day of listing.\n",
    "\n",
    "The dataset for this project contains information on past IPOs in the Indian market and comes from [moneycontrol](https://www.moneycontrol.com/ipo/ipo-historic-table?classic=true).\n",
    "\n",
    "#### Data Dictionary\r\n",
    "The data consists of following column\r\n",
    "\r\n",
    "Date: date when the IPO was lised\r\n",
    "\r\n",
    "IPOName: name of the IPO\r\n",
    "\r\n",
    "Issue_Size: size of the IPO issue, in INR Crores\r\n",
    "\r\n",
    "Subscription_QIB: number of times the IPO was subscribed by the QIB (Qualified Institutional Buyer) investor category\r\n",
    "\r\n",
    "Subscription_HNI: number of times the IPO was subscribed by the HNI (High Networth Individual) investor category\r\n",
    "\r\n",
    "Subscription_RII: number of times the IPO was subscribed by the RII (Retail Individual Investors) investor category\r\n",
    "\r\n",
    "Subscription_Total: total number of times the IPO was subs\n",
    "cribed overall\r\n",
    "\r\n",
    "Issue_Price: the price in INR at which the IPO was issued\r\n",
    "\r\n",
    "Listing_Gains_Percent: is the percentage gain in the listing price over the issue price\r\n"
   ]
  },
  {
   "cell_type": "markdown",
   "id": "2c0856a4-a067-42f1-8401-c6546e1193ba",
   "metadata": {},
   "source": [
    "## Data Investigation"
   ]
  },
  {
   "cell_type": "code",
   "execution_count": 1,
   "id": "71023b84-182a-426a-9cb3-b6eca6d55dc0",
   "metadata": {},
   "outputs": [
    {
     "name": "stdout",
     "output_type": "stream",
     "text": [
      "All libraries imported successfully!\n"
     ]
    }
   ],
   "source": [
    "import numpy as np \n",
    "import pandas as pd \n",
    "import seaborn as sns\n",
    "import matplotlib.pyplot as plt\n",
    "\n",
    "import tensorflow as tf\n",
    "from tensorflow import keras\n",
    "from tensorflow.keras import layers\n",
    "from sklearn.model_selection import train_test_split\n",
    "\n",
    "from sklearn.metrics import mean_squared_error\n",
    "from math import sqrt\n",
    "\n",
    "print(\"All libraries imported successfully!\")\n"
   ]
  },
  {
   "cell_type": "code",
   "execution_count": 2,
   "id": "82a2dea7-6a98-4628-af26-93c1b3f780c0",
   "metadata": {},
   "outputs": [
    {
     "data": {
      "text/html": [
       "<div>\n",
       "<style scoped>\n",
       "    .dataframe tbody tr th:only-of-type {\n",
       "        vertical-align: middle;\n",
       "    }\n",
       "\n",
       "    .dataframe tbody tr th {\n",
       "        vertical-align: top;\n",
       "    }\n",
       "\n",
       "    .dataframe thead th {\n",
       "        text-align: right;\n",
       "    }\n",
       "</style>\n",
       "<table border=\"1\" class=\"dataframe\">\n",
       "  <thead>\n",
       "    <tr style=\"text-align: right;\">\n",
       "      <th></th>\n",
       "      <th>Date</th>\n",
       "      <th>IPOName</th>\n",
       "      <th>Issue_Size</th>\n",
       "      <th>Subscription_QIB</th>\n",
       "      <th>Subscription_HNI</th>\n",
       "      <th>Subscription_RII</th>\n",
       "      <th>Subscription_Total</th>\n",
       "      <th>Issue_Price</th>\n",
       "      <th>Listing_Gains_Percent</th>\n",
       "    </tr>\n",
       "  </thead>\n",
       "  <tbody>\n",
       "    <tr>\n",
       "      <th>0</th>\n",
       "      <td>03/02/10</td>\n",
       "      <td>Infinite Comp</td>\n",
       "      <td>189.80</td>\n",
       "      <td>48.44</td>\n",
       "      <td>106.02</td>\n",
       "      <td>11.08</td>\n",
       "      <td>43.22</td>\n",
       "      <td>165</td>\n",
       "      <td>11.82</td>\n",
       "    </tr>\n",
       "    <tr>\n",
       "      <th>1</th>\n",
       "      <td>08/02/10</td>\n",
       "      <td>Jubilant Food</td>\n",
       "      <td>328.70</td>\n",
       "      <td>59.39</td>\n",
       "      <td>51.95</td>\n",
       "      <td>3.79</td>\n",
       "      <td>31.11</td>\n",
       "      <td>145</td>\n",
       "      <td>-84.21</td>\n",
       "    </tr>\n",
       "    <tr>\n",
       "      <th>2</th>\n",
       "      <td>15/02/10</td>\n",
       "      <td>Syncom Health</td>\n",
       "      <td>56.25</td>\n",
       "      <td>0.99</td>\n",
       "      <td>16.60</td>\n",
       "      <td>6.25</td>\n",
       "      <td>5.17</td>\n",
       "      <td>75</td>\n",
       "      <td>17.13</td>\n",
       "    </tr>\n",
       "    <tr>\n",
       "      <th>3</th>\n",
       "      <td>15/02/10</td>\n",
       "      <td>Vascon Engineer</td>\n",
       "      <td>199.80</td>\n",
       "      <td>1.12</td>\n",
       "      <td>3.65</td>\n",
       "      <td>0.62</td>\n",
       "      <td>1.22</td>\n",
       "      <td>165</td>\n",
       "      <td>-11.28</td>\n",
       "    </tr>\n",
       "    <tr>\n",
       "      <th>4</th>\n",
       "      <td>19/02/10</td>\n",
       "      <td>Thangamayil</td>\n",
       "      <td>0.00</td>\n",
       "      <td>0.52</td>\n",
       "      <td>1.52</td>\n",
       "      <td>2.26</td>\n",
       "      <td>1.12</td>\n",
       "      <td>75</td>\n",
       "      <td>-5.20</td>\n",
       "    </tr>\n",
       "    <tr>\n",
       "      <th>...</th>\n",
       "      <td>...</td>\n",
       "      <td>...</td>\n",
       "      <td>...</td>\n",
       "      <td>...</td>\n",
       "      <td>...</td>\n",
       "      <td>...</td>\n",
       "      <td>...</td>\n",
       "      <td>...</td>\n",
       "      <td>...</td>\n",
       "    </tr>\n",
       "    <tr>\n",
       "      <th>314</th>\n",
       "      <td>26/08/22</td>\n",
       "      <td>Syrma SGS</td>\n",
       "      <td>840.13</td>\n",
       "      <td>42.42</td>\n",
       "      <td>7.13</td>\n",
       "      <td>2.84</td>\n",
       "      <td>15.59</td>\n",
       "      <td>220</td>\n",
       "      <td>42.30</td>\n",
       "    </tr>\n",
       "    <tr>\n",
       "      <th>315</th>\n",
       "      <td>06/09/22</td>\n",
       "      <td>Dreamfolks Serv</td>\n",
       "      <td>562.10</td>\n",
       "      <td>27.48</td>\n",
       "      <td>14.18</td>\n",
       "      <td>24.19</td>\n",
       "      <td>23.25</td>\n",
       "      <td>326</td>\n",
       "      <td>41.92</td>\n",
       "    </tr>\n",
       "    <tr>\n",
       "      <th>316</th>\n",
       "      <td>15/09/22</td>\n",
       "      <td>TMB</td>\n",
       "      <td>792.00</td>\n",
       "      <td>0.51</td>\n",
       "      <td>1.77</td>\n",
       "      <td>3.44</td>\n",
       "      <td>1.39</td>\n",
       "      <td>525</td>\n",
       "      <td>-3.15</td>\n",
       "    </tr>\n",
       "    <tr>\n",
       "      <th>317</th>\n",
       "      <td>26/09/22</td>\n",
       "      <td>Harsha Engineer</td>\n",
       "      <td>755.00</td>\n",
       "      <td>113.82</td>\n",
       "      <td>40.36</td>\n",
       "      <td>12.44</td>\n",
       "      <td>47.19</td>\n",
       "      <td>330</td>\n",
       "      <td>47.24</td>\n",
       "    </tr>\n",
       "    <tr>\n",
       "      <th>318</th>\n",
       "      <td>17/10/22</td>\n",
       "      <td>Electronics Mar</td>\n",
       "      <td>500.00</td>\n",
       "      <td>58.81</td>\n",
       "      <td>15.39</td>\n",
       "      <td>8.27</td>\n",
       "      <td>24.23</td>\n",
       "      <td>59</td>\n",
       "      <td>43.14</td>\n",
       "    </tr>\n",
       "  </tbody>\n",
       "</table>\n",
       "<p>319 rows × 9 columns</p>\n",
       "</div>"
      ],
      "text/plain": [
       "        Date           IPOName  Issue_Size  Subscription_QIB  \\\n",
       "0    03/02/10    Infinite Comp      189.80             48.44   \n",
       "1    08/02/10    Jubilant Food      328.70             59.39   \n",
       "2    15/02/10    Syncom Health       56.25              0.99   \n",
       "3    15/02/10  Vascon Engineer      199.80              1.12   \n",
       "4    19/02/10      Thangamayil        0.00              0.52   \n",
       "..        ...              ...         ...               ...   \n",
       "314  26/08/22        Syrma SGS      840.13             42.42   \n",
       "315  06/09/22  Dreamfolks Serv      562.10             27.48   \n",
       "316  15/09/22              TMB      792.00              0.51   \n",
       "317  26/09/22  Harsha Engineer      755.00            113.82   \n",
       "318  17/10/22  Electronics Mar      500.00             58.81   \n",
       "\n",
       "     Subscription_HNI  Subscription_RII  Subscription_Total  Issue_Price  \\\n",
       "0              106.02             11.08               43.22          165   \n",
       "1               51.95              3.79               31.11          145   \n",
       "2               16.60              6.25                5.17           75   \n",
       "3                3.65              0.62                1.22          165   \n",
       "4                1.52              2.26                1.12           75   \n",
       "..                ...               ...                 ...          ...   \n",
       "314              7.13              2.84               15.59          220   \n",
       "315             14.18             24.19               23.25          326   \n",
       "316              1.77              3.44                1.39          525   \n",
       "317             40.36             12.44               47.19          330   \n",
       "318             15.39              8.27               24.23           59   \n",
       "\n",
       "     Listing_Gains_Percent  \n",
       "0                    11.82  \n",
       "1                   -84.21  \n",
       "2                    17.13  \n",
       "3                   -11.28  \n",
       "4                    -5.20  \n",
       "..                     ...  \n",
       "314                  42.30  \n",
       "315                  41.92  \n",
       "316                  -3.15  \n",
       "317                  47.24  \n",
       "318                  43.14  \n",
       "\n",
       "[319 rows x 9 columns]"
      ]
     },
     "execution_count": 2,
     "metadata": {},
     "output_type": "execute_result"
    }
   ],
   "source": [
    "market_df = pd.read_csv(\"Indian_IPO_Market_Data.csv\")\n",
    "market_df"
   ]
  },
  {
   "cell_type": "code",
   "execution_count": 3,
   "id": "4b4f191e-9755-49c3-86fb-2cef5871e0e5",
   "metadata": {},
   "outputs": [
    {
     "data": {
      "text/html": [
       "<div>\n",
       "<style scoped>\n",
       "    .dataframe tbody tr th:only-of-type {\n",
       "        vertical-align: middle;\n",
       "    }\n",
       "\n",
       "    .dataframe tbody tr th {\n",
       "        vertical-align: top;\n",
       "    }\n",
       "\n",
       "    .dataframe thead th {\n",
       "        text-align: right;\n",
       "    }\n",
       "</style>\n",
       "<table border=\"1\" class=\"dataframe\">\n",
       "  <thead>\n",
       "    <tr style=\"text-align: right;\">\n",
       "      <th></th>\n",
       "      <th>Date</th>\n",
       "      <th>IPOName</th>\n",
       "      <th>Issue_Size</th>\n",
       "      <th>Subscription_QIB</th>\n",
       "      <th>Subscription_HNI</th>\n",
       "      <th>Subscription_RII</th>\n",
       "      <th>Subscription_Total</th>\n",
       "      <th>Issue_Price</th>\n",
       "      <th>Listing_Gains_Percent</th>\n",
       "    </tr>\n",
       "  </thead>\n",
       "  <tbody>\n",
       "    <tr>\n",
       "      <th>0</th>\n",
       "      <td>03/02/10</td>\n",
       "      <td>Infinite Comp</td>\n",
       "      <td>189.80</td>\n",
       "      <td>48.44</td>\n",
       "      <td>106.02</td>\n",
       "      <td>11.08</td>\n",
       "      <td>43.22</td>\n",
       "      <td>165</td>\n",
       "      <td>11.82</td>\n",
       "    </tr>\n",
       "    <tr>\n",
       "      <th>1</th>\n",
       "      <td>08/02/10</td>\n",
       "      <td>Jubilant Food</td>\n",
       "      <td>328.70</td>\n",
       "      <td>59.39</td>\n",
       "      <td>51.95</td>\n",
       "      <td>3.79</td>\n",
       "      <td>31.11</td>\n",
       "      <td>145</td>\n",
       "      <td>-84.21</td>\n",
       "    </tr>\n",
       "    <tr>\n",
       "      <th>2</th>\n",
       "      <td>15/02/10</td>\n",
       "      <td>Syncom Health</td>\n",
       "      <td>56.25</td>\n",
       "      <td>0.99</td>\n",
       "      <td>16.60</td>\n",
       "      <td>6.25</td>\n",
       "      <td>5.17</td>\n",
       "      <td>75</td>\n",
       "      <td>17.13</td>\n",
       "    </tr>\n",
       "    <tr>\n",
       "      <th>3</th>\n",
       "      <td>15/02/10</td>\n",
       "      <td>Vascon Engineer</td>\n",
       "      <td>199.80</td>\n",
       "      <td>1.12</td>\n",
       "      <td>3.65</td>\n",
       "      <td>0.62</td>\n",
       "      <td>1.22</td>\n",
       "      <td>165</td>\n",
       "      <td>-11.28</td>\n",
       "    </tr>\n",
       "    <tr>\n",
       "      <th>4</th>\n",
       "      <td>19/02/10</td>\n",
       "      <td>Thangamayil</td>\n",
       "      <td>0.00</td>\n",
       "      <td>0.52</td>\n",
       "      <td>1.52</td>\n",
       "      <td>2.26</td>\n",
       "      <td>1.12</td>\n",
       "      <td>75</td>\n",
       "      <td>-5.20</td>\n",
       "    </tr>\n",
       "  </tbody>\n",
       "</table>\n",
       "</div>"
      ],
      "text/plain": [
       "      Date           IPOName  Issue_Size  Subscription_QIB  Subscription_HNI  \\\n",
       "0  03/02/10    Infinite Comp      189.80             48.44            106.02   \n",
       "1  08/02/10    Jubilant Food      328.70             59.39             51.95   \n",
       "2  15/02/10    Syncom Health       56.25              0.99             16.60   \n",
       "3  15/02/10  Vascon Engineer      199.80              1.12              3.65   \n",
       "4  19/02/10      Thangamayil        0.00              0.52              1.52   \n",
       "\n",
       "   Subscription_RII  Subscription_Total  Issue_Price  Listing_Gains_Percent  \n",
       "0             11.08               43.22          165                  11.82  \n",
       "1              3.79               31.11          145                 -84.21  \n",
       "2              6.25                5.17           75                  17.13  \n",
       "3              0.62                1.22          165                 -11.28  \n",
       "4              2.26                1.12           75                  -5.20  "
      ]
     },
     "execution_count": 3,
     "metadata": {},
     "output_type": "execute_result"
    }
   ],
   "source": [
    "# first five rows of the dataset\n",
    "market_df.head(5)"
   ]
  },
  {
   "cell_type": "code",
   "execution_count": 4,
   "id": "555f7169-2950-46e0-84d5-337202a6ef52",
   "metadata": {},
   "outputs": [
    {
     "data": {
      "text/html": [
       "<div>\n",
       "<style scoped>\n",
       "    .dataframe tbody tr th:only-of-type {\n",
       "        vertical-align: middle;\n",
       "    }\n",
       "\n",
       "    .dataframe tbody tr th {\n",
       "        vertical-align: top;\n",
       "    }\n",
       "\n",
       "    .dataframe thead th {\n",
       "        text-align: right;\n",
       "    }\n",
       "</style>\n",
       "<table border=\"1\" class=\"dataframe\">\n",
       "  <thead>\n",
       "    <tr style=\"text-align: right;\">\n",
       "      <th></th>\n",
       "      <th>Date</th>\n",
       "      <th>IPOName</th>\n",
       "      <th>Issue_Size</th>\n",
       "      <th>Subscription_QIB</th>\n",
       "      <th>Subscription_HNI</th>\n",
       "      <th>Subscription_RII</th>\n",
       "      <th>Subscription_Total</th>\n",
       "      <th>Issue_Price</th>\n",
       "      <th>Listing_Gains_Percent</th>\n",
       "    </tr>\n",
       "  </thead>\n",
       "  <tbody>\n",
       "    <tr>\n",
       "      <th>314</th>\n",
       "      <td>26/08/22</td>\n",
       "      <td>Syrma SGS</td>\n",
       "      <td>840.13</td>\n",
       "      <td>42.42</td>\n",
       "      <td>7.13</td>\n",
       "      <td>2.84</td>\n",
       "      <td>15.59</td>\n",
       "      <td>220</td>\n",
       "      <td>42.30</td>\n",
       "    </tr>\n",
       "    <tr>\n",
       "      <th>315</th>\n",
       "      <td>06/09/22</td>\n",
       "      <td>Dreamfolks Serv</td>\n",
       "      <td>562.10</td>\n",
       "      <td>27.48</td>\n",
       "      <td>14.18</td>\n",
       "      <td>24.19</td>\n",
       "      <td>23.25</td>\n",
       "      <td>326</td>\n",
       "      <td>41.92</td>\n",
       "    </tr>\n",
       "    <tr>\n",
       "      <th>316</th>\n",
       "      <td>15/09/22</td>\n",
       "      <td>TMB</td>\n",
       "      <td>792.00</td>\n",
       "      <td>0.51</td>\n",
       "      <td>1.77</td>\n",
       "      <td>3.44</td>\n",
       "      <td>1.39</td>\n",
       "      <td>525</td>\n",
       "      <td>-3.15</td>\n",
       "    </tr>\n",
       "    <tr>\n",
       "      <th>317</th>\n",
       "      <td>26/09/22</td>\n",
       "      <td>Harsha Engineer</td>\n",
       "      <td>755.00</td>\n",
       "      <td>113.82</td>\n",
       "      <td>40.36</td>\n",
       "      <td>12.44</td>\n",
       "      <td>47.19</td>\n",
       "      <td>330</td>\n",
       "      <td>47.24</td>\n",
       "    </tr>\n",
       "    <tr>\n",
       "      <th>318</th>\n",
       "      <td>17/10/22</td>\n",
       "      <td>Electronics Mar</td>\n",
       "      <td>500.00</td>\n",
       "      <td>58.81</td>\n",
       "      <td>15.39</td>\n",
       "      <td>8.27</td>\n",
       "      <td>24.23</td>\n",
       "      <td>59</td>\n",
       "      <td>43.14</td>\n",
       "    </tr>\n",
       "  </tbody>\n",
       "</table>\n",
       "</div>"
      ],
      "text/plain": [
       "        Date           IPOName  Issue_Size  Subscription_QIB  \\\n",
       "314  26/08/22        Syrma SGS      840.13             42.42   \n",
       "315  06/09/22  Dreamfolks Serv      562.10             27.48   \n",
       "316  15/09/22              TMB      792.00              0.51   \n",
       "317  26/09/22  Harsha Engineer      755.00            113.82   \n",
       "318  17/10/22  Electronics Mar      500.00             58.81   \n",
       "\n",
       "     Subscription_HNI  Subscription_RII  Subscription_Total  Issue_Price  \\\n",
       "314              7.13              2.84               15.59          220   \n",
       "315             14.18             24.19               23.25          326   \n",
       "316              1.77              3.44                1.39          525   \n",
       "317             40.36             12.44               47.19          330   \n",
       "318             15.39              8.27               24.23           59   \n",
       "\n",
       "     Listing_Gains_Percent  \n",
       "314                  42.30  \n",
       "315                  41.92  \n",
       "316                  -3.15  \n",
       "317                  47.24  \n",
       "318                  43.14  "
      ]
     },
     "execution_count": 4,
     "metadata": {},
     "output_type": "execute_result"
    }
   ],
   "source": [
    "# last five rows of the dataset\n",
    "market_df.tail(5)"
   ]
  },
  {
   "cell_type": "code",
   "execution_count": 5,
   "id": "8e21b937-c959-4a56-a9c4-fffc227bd1b2",
   "metadata": {},
   "outputs": [
    {
     "data": {
      "text/plain": [
       "Index(['Date ', 'IPOName', 'Issue_Size', 'Subscription_QIB',\n",
       "       'Subscription_HNI', 'Subscription_RII', 'Subscription_Total',\n",
       "       'Issue_Price', 'Listing_Gains_Percent'],\n",
       "      dtype='object')"
      ]
     },
     "execution_count": 5,
     "metadata": {},
     "output_type": "execute_result"
    }
   ],
   "source": [
    "# information about the columns in the dataset\n",
    "market_df.columns"
   ]
  },
  {
   "cell_type": "code",
   "execution_count": 6,
   "id": "25b5276d-6653-4454-ba81-2e4f81250094",
   "metadata": {},
   "outputs": [
    {
     "data": {
      "text/plain": [
       "count    319.000000\n",
       "mean       4.742696\n",
       "std       47.650946\n",
       "min      -97.150000\n",
       "25%      -11.555000\n",
       "50%        1.810000\n",
       "75%       25.310000\n",
       "max      270.400000\n",
       "Name: Listing_Gains_Percent, dtype: float64"
      ]
     },
     "execution_count": 6,
     "metadata": {},
     "output_type": "execute_result"
    }
   ],
   "source": [
    "#summary statistics for the Listing_Gains_Percent variable in the dataset\n",
    "gains_stat = market_df[\"Listing_Gains_Percent\"].describe()\n",
    "gains_stat"
   ]
  },
  {
   "cell_type": "code",
   "execution_count": 7,
   "id": "f458e73d-d009-40c8-9368-ee2bd63af4c4",
   "metadata": {},
   "outputs": [
    {
     "data": {
      "text/html": [
       "<div>\n",
       "<style scoped>\n",
       "    .dataframe tbody tr th:only-of-type {\n",
       "        vertical-align: middle;\n",
       "    }\n",
       "\n",
       "    .dataframe tbody tr th {\n",
       "        vertical-align: top;\n",
       "    }\n",
       "\n",
       "    .dataframe thead th {\n",
       "        text-align: right;\n",
       "    }\n",
       "</style>\n",
       "<table border=\"1\" class=\"dataframe\">\n",
       "  <thead>\n",
       "    <tr style=\"text-align: right;\">\n",
       "      <th></th>\n",
       "      <th>Issue_Size</th>\n",
       "      <th>Subscription_QIB</th>\n",
       "      <th>Subscription_HNI</th>\n",
       "      <th>Subscription_RII</th>\n",
       "      <th>Subscription_Total</th>\n",
       "      <th>Issue_Price</th>\n",
       "      <th>Listing_Gains_Percent</th>\n",
       "    </tr>\n",
       "  </thead>\n",
       "  <tbody>\n",
       "    <tr>\n",
       "      <th>count</th>\n",
       "      <td>319.000000</td>\n",
       "      <td>319.000000</td>\n",
       "      <td>319.000000</td>\n",
       "      <td>319.000000</td>\n",
       "      <td>319.000000</td>\n",
       "      <td>319.000000</td>\n",
       "      <td>319.000000</td>\n",
       "    </tr>\n",
       "    <tr>\n",
       "      <th>mean</th>\n",
       "      <td>1192.859969</td>\n",
       "      <td>25.684138</td>\n",
       "      <td>70.091379</td>\n",
       "      <td>8.561599</td>\n",
       "      <td>27.447147</td>\n",
       "      <td>375.128527</td>\n",
       "      <td>4.742696</td>\n",
       "    </tr>\n",
       "    <tr>\n",
       "      <th>std</th>\n",
       "      <td>2384.643786</td>\n",
       "      <td>40.716782</td>\n",
       "      <td>142.454416</td>\n",
       "      <td>14.508670</td>\n",
       "      <td>48.772203</td>\n",
       "      <td>353.897614</td>\n",
       "      <td>47.650946</td>\n",
       "    </tr>\n",
       "    <tr>\n",
       "      <th>min</th>\n",
       "      <td>0.000000</td>\n",
       "      <td>0.000000</td>\n",
       "      <td>0.000000</td>\n",
       "      <td>0.000000</td>\n",
       "      <td>0.000000</td>\n",
       "      <td>0.000000</td>\n",
       "      <td>-97.150000</td>\n",
       "    </tr>\n",
       "    <tr>\n",
       "      <th>25%</th>\n",
       "      <td>169.005000</td>\n",
       "      <td>1.150000</td>\n",
       "      <td>1.255000</td>\n",
       "      <td>1.275000</td>\n",
       "      <td>1.645000</td>\n",
       "      <td>119.000000</td>\n",
       "      <td>-11.555000</td>\n",
       "    </tr>\n",
       "    <tr>\n",
       "      <th>50%</th>\n",
       "      <td>496.250000</td>\n",
       "      <td>4.940000</td>\n",
       "      <td>5.070000</td>\n",
       "      <td>3.420000</td>\n",
       "      <td>4.930000</td>\n",
       "      <td>250.000000</td>\n",
       "      <td>1.810000</td>\n",
       "    </tr>\n",
       "    <tr>\n",
       "      <th>75%</th>\n",
       "      <td>1100.000000</td>\n",
       "      <td>34.635000</td>\n",
       "      <td>62.095000</td>\n",
       "      <td>8.605000</td>\n",
       "      <td>33.395000</td>\n",
       "      <td>536.000000</td>\n",
       "      <td>25.310000</td>\n",
       "    </tr>\n",
       "    <tr>\n",
       "      <th>max</th>\n",
       "      <td>21000.000000</td>\n",
       "      <td>215.450000</td>\n",
       "      <td>958.070000</td>\n",
       "      <td>119.440000</td>\n",
       "      <td>326.490000</td>\n",
       "      <td>2150.000000</td>\n",
       "      <td>270.400000</td>\n",
       "    </tr>\n",
       "  </tbody>\n",
       "</table>\n",
       "</div>"
      ],
      "text/plain": [
       "         Issue_Size  Subscription_QIB  Subscription_HNI  Subscription_RII  \\\n",
       "count    319.000000        319.000000        319.000000        319.000000   \n",
       "mean    1192.859969         25.684138         70.091379          8.561599   \n",
       "std     2384.643786         40.716782        142.454416         14.508670   \n",
       "min        0.000000          0.000000          0.000000          0.000000   \n",
       "25%      169.005000          1.150000          1.255000          1.275000   \n",
       "50%      496.250000          4.940000          5.070000          3.420000   \n",
       "75%     1100.000000         34.635000         62.095000          8.605000   \n",
       "max    21000.000000        215.450000        958.070000        119.440000   \n",
       "\n",
       "       Subscription_Total  Issue_Price  Listing_Gains_Percent  \n",
       "count          319.000000   319.000000             319.000000  \n",
       "mean            27.447147   375.128527               4.742696  \n",
       "std             48.772203   353.897614              47.650946  \n",
       "min              0.000000     0.000000             -97.150000  \n",
       "25%              1.645000   119.000000             -11.555000  \n",
       "50%              4.930000   250.000000               1.810000  \n",
       "75%             33.395000   536.000000              25.310000  \n",
       "max            326.490000  2150.000000             270.400000  "
      ]
     },
     "execution_count": 7,
     "metadata": {},
     "output_type": "execute_result"
    }
   ],
   "source": [
    "#summary statistics for all variables of the dataset\n",
    "dataset_stat = market_df.describe()\n",
    "dataset_stat"
   ]
  },
  {
   "cell_type": "code",
   "execution_count": 8,
   "id": "122105b6-4ab4-45ff-81ff-b87b1dae257d",
   "metadata": {},
   "outputs": [
    {
     "data": {
      "text/html": [
       "<div>\n",
       "<style scoped>\n",
       "    .dataframe tbody tr th:only-of-type {\n",
       "        vertical-align: middle;\n",
       "    }\n",
       "\n",
       "    .dataframe tbody tr th {\n",
       "        vertical-align: top;\n",
       "    }\n",
       "\n",
       "    .dataframe thead th {\n",
       "        text-align: right;\n",
       "    }\n",
       "</style>\n",
       "<table border=\"1\" class=\"dataframe\">\n",
       "  <thead>\n",
       "    <tr style=\"text-align: right;\">\n",
       "      <th></th>\n",
       "      <th>Date</th>\n",
       "      <th>IPOName</th>\n",
       "      <th>Issue_Size</th>\n",
       "      <th>Subscription_QIB</th>\n",
       "      <th>Subscription_HNI</th>\n",
       "      <th>Subscription_RII</th>\n",
       "      <th>Subscription_Total</th>\n",
       "      <th>Issue_Price</th>\n",
       "      <th>Listing_Gains_Percent</th>\n",
       "    </tr>\n",
       "  </thead>\n",
       "  <tbody>\n",
       "    <tr>\n",
       "      <th>0</th>\n",
       "      <td>03/02/10</td>\n",
       "      <td>Infinite Comp</td>\n",
       "      <td>189.80</td>\n",
       "      <td>48.44</td>\n",
       "      <td>106.02</td>\n",
       "      <td>11.08</td>\n",
       "      <td>43.22</td>\n",
       "      <td>165</td>\n",
       "      <td>11.82</td>\n",
       "    </tr>\n",
       "    <tr>\n",
       "      <th>1</th>\n",
       "      <td>08/02/10</td>\n",
       "      <td>Jubilant Food</td>\n",
       "      <td>328.70</td>\n",
       "      <td>59.39</td>\n",
       "      <td>51.95</td>\n",
       "      <td>3.79</td>\n",
       "      <td>31.11</td>\n",
       "      <td>145</td>\n",
       "      <td>-84.21</td>\n",
       "    </tr>\n",
       "    <tr>\n",
       "      <th>2</th>\n",
       "      <td>15/02/10</td>\n",
       "      <td>Syncom Health</td>\n",
       "      <td>56.25</td>\n",
       "      <td>0.99</td>\n",
       "      <td>16.60</td>\n",
       "      <td>6.25</td>\n",
       "      <td>5.17</td>\n",
       "      <td>75</td>\n",
       "      <td>17.13</td>\n",
       "    </tr>\n",
       "    <tr>\n",
       "      <th>3</th>\n",
       "      <td>15/02/10</td>\n",
       "      <td>Vascon Engineer</td>\n",
       "      <td>199.80</td>\n",
       "      <td>1.12</td>\n",
       "      <td>3.65</td>\n",
       "      <td>0.62</td>\n",
       "      <td>1.22</td>\n",
       "      <td>165</td>\n",
       "      <td>-11.28</td>\n",
       "    </tr>\n",
       "    <tr>\n",
       "      <th>4</th>\n",
       "      <td>19/02/10</td>\n",
       "      <td>Thangamayil</td>\n",
       "      <td>0.00</td>\n",
       "      <td>0.52</td>\n",
       "      <td>1.52</td>\n",
       "      <td>2.26</td>\n",
       "      <td>1.12</td>\n",
       "      <td>75</td>\n",
       "      <td>-5.20</td>\n",
       "    </tr>\n",
       "    <tr>\n",
       "      <th>...</th>\n",
       "      <td>...</td>\n",
       "      <td>...</td>\n",
       "      <td>...</td>\n",
       "      <td>...</td>\n",
       "      <td>...</td>\n",
       "      <td>...</td>\n",
       "      <td>...</td>\n",
       "      <td>...</td>\n",
       "      <td>...</td>\n",
       "    </tr>\n",
       "    <tr>\n",
       "      <th>314</th>\n",
       "      <td>26/08/22</td>\n",
       "      <td>Syrma SGS</td>\n",
       "      <td>840.13</td>\n",
       "      <td>42.42</td>\n",
       "      <td>7.13</td>\n",
       "      <td>2.84</td>\n",
       "      <td>15.59</td>\n",
       "      <td>220</td>\n",
       "      <td>42.30</td>\n",
       "    </tr>\n",
       "    <tr>\n",
       "      <th>315</th>\n",
       "      <td>06/09/22</td>\n",
       "      <td>Dreamfolks Serv</td>\n",
       "      <td>562.10</td>\n",
       "      <td>27.48</td>\n",
       "      <td>14.18</td>\n",
       "      <td>24.19</td>\n",
       "      <td>23.25</td>\n",
       "      <td>326</td>\n",
       "      <td>41.92</td>\n",
       "    </tr>\n",
       "    <tr>\n",
       "      <th>316</th>\n",
       "      <td>15/09/22</td>\n",
       "      <td>TMB</td>\n",
       "      <td>792.00</td>\n",
       "      <td>0.51</td>\n",
       "      <td>1.77</td>\n",
       "      <td>3.44</td>\n",
       "      <td>1.39</td>\n",
       "      <td>525</td>\n",
       "      <td>-3.15</td>\n",
       "    </tr>\n",
       "    <tr>\n",
       "      <th>317</th>\n",
       "      <td>26/09/22</td>\n",
       "      <td>Harsha Engineer</td>\n",
       "      <td>755.00</td>\n",
       "      <td>113.82</td>\n",
       "      <td>40.36</td>\n",
       "      <td>12.44</td>\n",
       "      <td>47.19</td>\n",
       "      <td>330</td>\n",
       "      <td>47.24</td>\n",
       "    </tr>\n",
       "    <tr>\n",
       "      <th>318</th>\n",
       "      <td>17/10/22</td>\n",
       "      <td>Electronics Mar</td>\n",
       "      <td>500.00</td>\n",
       "      <td>58.81</td>\n",
       "      <td>15.39</td>\n",
       "      <td>8.27</td>\n",
       "      <td>24.23</td>\n",
       "      <td>59</td>\n",
       "      <td>43.14</td>\n",
       "    </tr>\n",
       "  </tbody>\n",
       "</table>\n",
       "<p>319 rows × 9 columns</p>\n",
       "</div>"
      ],
      "text/plain": [
       "        Date           IPOName  Issue_Size  Subscription_QIB  \\\n",
       "0    03/02/10    Infinite Comp      189.80             48.44   \n",
       "1    08/02/10    Jubilant Food      328.70             59.39   \n",
       "2    15/02/10    Syncom Health       56.25              0.99   \n",
       "3    15/02/10  Vascon Engineer      199.80              1.12   \n",
       "4    19/02/10      Thangamayil        0.00              0.52   \n",
       "..        ...              ...         ...               ...   \n",
       "314  26/08/22        Syrma SGS      840.13             42.42   \n",
       "315  06/09/22  Dreamfolks Serv      562.10             27.48   \n",
       "316  15/09/22              TMB      792.00              0.51   \n",
       "317  26/09/22  Harsha Engineer      755.00            113.82   \n",
       "318  17/10/22  Electronics Mar      500.00             58.81   \n",
       "\n",
       "     Subscription_HNI  Subscription_RII  Subscription_Total  Issue_Price  \\\n",
       "0              106.02             11.08               43.22          165   \n",
       "1               51.95              3.79               31.11          145   \n",
       "2               16.60              6.25                5.17           75   \n",
       "3                3.65              0.62                1.22          165   \n",
       "4                1.52              2.26                1.12           75   \n",
       "..                ...               ...                 ...          ...   \n",
       "314              7.13              2.84               15.59          220   \n",
       "315             14.18             24.19               23.25          326   \n",
       "316              1.77              3.44                1.39          525   \n",
       "317             40.36             12.44               47.19          330   \n",
       "318             15.39              8.27               24.23           59   \n",
       "\n",
       "     Listing_Gains_Percent  \n",
       "0                    11.82  \n",
       "1                   -84.21  \n",
       "2                    17.13  \n",
       "3                   -11.28  \n",
       "4                    -5.20  \n",
       "..                     ...  \n",
       "314                  42.30  \n",
       "315                  41.92  \n",
       "316                  -3.15  \n",
       "317                  47.24  \n",
       "318                  43.14  \n",
       "\n",
       "[319 rows x 9 columns]"
      ]
     },
     "execution_count": 8,
     "metadata": {},
     "output_type": "execute_result"
    }
   ],
   "source": [
    "market_df"
   ]
  },
  {
   "cell_type": "markdown",
   "id": "f209df0c-9838-4b33-b1d3-fb57b19f85aa",
   "metadata": {},
   "source": []
  },
  {
   "cell_type": "code",
   "execution_count": 9,
   "id": "bdcda8d8-58bf-4ca0-b84e-95dbac2a0f7f",
   "metadata": {},
   "outputs": [
    {
     "name": "stdout",
     "output_type": "stream",
     "text": [
      "0      11.82\n",
      "1     -84.21\n",
      "2      17.13\n",
      "3     -11.28\n",
      "4      -5.20\n",
      "       ...  \n",
      "314    42.30\n",
      "315    41.92\n",
      "316    -3.15\n",
      "317    47.24\n",
      "318    43.14\n",
      "Name: Listing_Gains_Percent, Length: 319, dtype: float64\n"
     ]
    }
   ],
   "source": [
    "print(market_df[\"Listing_Gains_Percent\"])"
   ]
  },
  {
   "cell_type": "code",
   "execution_count": 10,
   "id": "8eab29e5-97e4-4e43-b3d1-999500f0389a",
   "metadata": {},
   "outputs": [
    {
     "data": {
      "text/plain": [
       "0"
      ]
     },
     "execution_count": 10,
     "metadata": {},
     "output_type": "execute_result"
    }
   ],
   "source": [
    "#check for null in the Listing_Gains_Percent\n",
    "market_df[\"Listing_Gains_Percent\"].isnull().sum()"
   ]
  },
  {
   "cell_type": "code",
   "execution_count": 11,
   "id": "93a1ab6d-db7e-4b45-989f-02f423968876",
   "metadata": {},
   "outputs": [
    {
     "data": {
      "text/plain": [
       "Date                     0\n",
       "IPOName                  0\n",
       "Issue_Size               0\n",
       "Subscription_QIB         0\n",
       "Subscription_HNI         0\n",
       "Subscription_RII         0\n",
       "Subscription_Total       0\n",
       "Issue_Price              0\n",
       "Listing_Gains_Percent    0\n",
       "dtype: int64"
      ]
     },
     "execution_count": 11,
     "metadata": {},
     "output_type": "execute_result"
    }
   ],
   "source": [
    "market_df.isna().sum()"
   ]
  },
  {
   "cell_type": "code",
   "execution_count": 12,
   "id": "c59191b2-2532-4cd9-9fe6-527c53ab8ab1",
   "metadata": {},
   "outputs": [
    {
     "data": {
      "text/plain": [
       "count    319.000000\n",
       "mean       4.742696\n",
       "std       47.650946\n",
       "min      -97.150000\n",
       "25%      -11.555000\n",
       "50%        1.810000\n",
       "75%       25.310000\n",
       "max      270.400000\n",
       "Name: Listing_Gains_Percent, dtype: float64"
      ]
     },
     "execution_count": 12,
     "metadata": {},
     "output_type": "execute_result"
    }
   ],
   "source": [
    "market_df[\"Listing_Gains_Percent\"].describe()"
   ]
  },
  {
   "cell_type": "code",
   "execution_count": 13,
   "id": "f37f0ce0-c1ab-4121-97ce-f9edf449fff0",
   "metadata": {},
   "outputs": [
    {
     "data": {
      "text/html": [
       "<div>\n",
       "<style scoped>\n",
       "    .dataframe tbody tr th:only-of-type {\n",
       "        vertical-align: middle;\n",
       "    }\n",
       "\n",
       "    .dataframe tbody tr th {\n",
       "        vertical-align: top;\n",
       "    }\n",
       "\n",
       "    .dataframe thead th {\n",
       "        text-align: right;\n",
       "    }\n",
       "</style>\n",
       "<table border=\"1\" class=\"dataframe\">\n",
       "  <thead>\n",
       "    <tr style=\"text-align: right;\">\n",
       "      <th></th>\n",
       "      <th>Date</th>\n",
       "      <th>IPOName</th>\n",
       "      <th>Issue_Size</th>\n",
       "      <th>Subscription_QIB</th>\n",
       "      <th>Subscription_HNI</th>\n",
       "      <th>Subscription_RII</th>\n",
       "      <th>Subscription_Total</th>\n",
       "      <th>Issue_Price</th>\n",
       "      <th>Listing_Gains_Percent</th>\n",
       "    </tr>\n",
       "  </thead>\n",
       "  <tbody>\n",
       "    <tr>\n",
       "      <th>0</th>\n",
       "      <td>03/02/10</td>\n",
       "      <td>Infinite Comp</td>\n",
       "      <td>189.80</td>\n",
       "      <td>48.44</td>\n",
       "      <td>106.02</td>\n",
       "      <td>11.08</td>\n",
       "      <td>43.22</td>\n",
       "      <td>165</td>\n",
       "      <td>11.82</td>\n",
       "    </tr>\n",
       "    <tr>\n",
       "      <th>1</th>\n",
       "      <td>08/02/10</td>\n",
       "      <td>Jubilant Food</td>\n",
       "      <td>328.70</td>\n",
       "      <td>59.39</td>\n",
       "      <td>51.95</td>\n",
       "      <td>3.79</td>\n",
       "      <td>31.11</td>\n",
       "      <td>145</td>\n",
       "      <td>-84.21</td>\n",
       "    </tr>\n",
       "    <tr>\n",
       "      <th>2</th>\n",
       "      <td>15/02/10</td>\n",
       "      <td>Syncom Health</td>\n",
       "      <td>56.25</td>\n",
       "      <td>0.99</td>\n",
       "      <td>16.60</td>\n",
       "      <td>6.25</td>\n",
       "      <td>5.17</td>\n",
       "      <td>75</td>\n",
       "      <td>17.13</td>\n",
       "    </tr>\n",
       "    <tr>\n",
       "      <th>3</th>\n",
       "      <td>15/02/10</td>\n",
       "      <td>Vascon Engineer</td>\n",
       "      <td>199.80</td>\n",
       "      <td>1.12</td>\n",
       "      <td>3.65</td>\n",
       "      <td>0.62</td>\n",
       "      <td>1.22</td>\n",
       "      <td>165</td>\n",
       "      <td>-11.28</td>\n",
       "    </tr>\n",
       "    <tr>\n",
       "      <th>4</th>\n",
       "      <td>19/02/10</td>\n",
       "      <td>Thangamayil</td>\n",
       "      <td>0.00</td>\n",
       "      <td>0.52</td>\n",
       "      <td>1.52</td>\n",
       "      <td>2.26</td>\n",
       "      <td>1.12</td>\n",
       "      <td>75</td>\n",
       "      <td>-5.20</td>\n",
       "    </tr>\n",
       "    <tr>\n",
       "      <th>...</th>\n",
       "      <td>...</td>\n",
       "      <td>...</td>\n",
       "      <td>...</td>\n",
       "      <td>...</td>\n",
       "      <td>...</td>\n",
       "      <td>...</td>\n",
       "      <td>...</td>\n",
       "      <td>...</td>\n",
       "      <td>...</td>\n",
       "    </tr>\n",
       "    <tr>\n",
       "      <th>314</th>\n",
       "      <td>26/08/22</td>\n",
       "      <td>Syrma SGS</td>\n",
       "      <td>840.13</td>\n",
       "      <td>42.42</td>\n",
       "      <td>7.13</td>\n",
       "      <td>2.84</td>\n",
       "      <td>15.59</td>\n",
       "      <td>220</td>\n",
       "      <td>42.30</td>\n",
       "    </tr>\n",
       "    <tr>\n",
       "      <th>315</th>\n",
       "      <td>06/09/22</td>\n",
       "      <td>Dreamfolks Serv</td>\n",
       "      <td>562.10</td>\n",
       "      <td>27.48</td>\n",
       "      <td>14.18</td>\n",
       "      <td>24.19</td>\n",
       "      <td>23.25</td>\n",
       "      <td>326</td>\n",
       "      <td>41.92</td>\n",
       "    </tr>\n",
       "    <tr>\n",
       "      <th>316</th>\n",
       "      <td>15/09/22</td>\n",
       "      <td>TMB</td>\n",
       "      <td>792.00</td>\n",
       "      <td>0.51</td>\n",
       "      <td>1.77</td>\n",
       "      <td>3.44</td>\n",
       "      <td>1.39</td>\n",
       "      <td>525</td>\n",
       "      <td>-3.15</td>\n",
       "    </tr>\n",
       "    <tr>\n",
       "      <th>317</th>\n",
       "      <td>26/09/22</td>\n",
       "      <td>Harsha Engineer</td>\n",
       "      <td>755.00</td>\n",
       "      <td>113.82</td>\n",
       "      <td>40.36</td>\n",
       "      <td>12.44</td>\n",
       "      <td>47.19</td>\n",
       "      <td>330</td>\n",
       "      <td>47.24</td>\n",
       "    </tr>\n",
       "    <tr>\n",
       "      <th>318</th>\n",
       "      <td>17/10/22</td>\n",
       "      <td>Electronics Mar</td>\n",
       "      <td>500.00</td>\n",
       "      <td>58.81</td>\n",
       "      <td>15.39</td>\n",
       "      <td>8.27</td>\n",
       "      <td>24.23</td>\n",
       "      <td>59</td>\n",
       "      <td>43.14</td>\n",
       "    </tr>\n",
       "  </tbody>\n",
       "</table>\n",
       "<p>319 rows × 9 columns</p>\n",
       "</div>"
      ],
      "text/plain": [
       "        Date           IPOName  Issue_Size  Subscription_QIB  \\\n",
       "0    03/02/10    Infinite Comp      189.80             48.44   \n",
       "1    08/02/10    Jubilant Food      328.70             59.39   \n",
       "2    15/02/10    Syncom Health       56.25              0.99   \n",
       "3    15/02/10  Vascon Engineer      199.80              1.12   \n",
       "4    19/02/10      Thangamayil        0.00              0.52   \n",
       "..        ...              ...         ...               ...   \n",
       "314  26/08/22        Syrma SGS      840.13             42.42   \n",
       "315  06/09/22  Dreamfolks Serv      562.10             27.48   \n",
       "316  15/09/22              TMB      792.00              0.51   \n",
       "317  26/09/22  Harsha Engineer      755.00            113.82   \n",
       "318  17/10/22  Electronics Mar      500.00             58.81   \n",
       "\n",
       "     Subscription_HNI  Subscription_RII  Subscription_Total  Issue_Price  \\\n",
       "0              106.02             11.08               43.22          165   \n",
       "1               51.95              3.79               31.11          145   \n",
       "2               16.60              6.25                5.17           75   \n",
       "3                3.65              0.62                1.22          165   \n",
       "4                1.52              2.26                1.12           75   \n",
       "..                ...               ...                 ...          ...   \n",
       "314              7.13              2.84               15.59          220   \n",
       "315             14.18             24.19               23.25          326   \n",
       "316              1.77              3.44                1.39          525   \n",
       "317             40.36             12.44               47.19          330   \n",
       "318             15.39              8.27               24.23           59   \n",
       "\n",
       "     Listing_Gains_Percent  \n",
       "0                    11.82  \n",
       "1                   -84.21  \n",
       "2                    17.13  \n",
       "3                   -11.28  \n",
       "4                    -5.20  \n",
       "..                     ...  \n",
       "314                  42.30  \n",
       "315                  41.92  \n",
       "316                  -3.15  \n",
       "317                  47.24  \n",
       "318                  43.14  \n",
       "\n",
       "[319 rows x 9 columns]"
      ]
     },
     "execution_count": 13,
     "metadata": {},
     "output_type": "execute_result"
    }
   ],
   "source": [
    "market_df"
   ]
  },
  {
   "cell_type": "code",
   "execution_count": 14,
   "id": "b0d820b2-bf39-45da-8c71-57439321836a",
   "metadata": {},
   "outputs": [
    {
     "data": {
      "text/plain": [
       "Listing_Gains_Percent\n",
       " 7.35     2\n",
       " 0.00     2\n",
       " 3.06     2\n",
       "-5.00     2\n",
       " 23.19    2\n",
       "         ..\n",
       "-13.09    1\n",
       "-44.81    1\n",
       "-0.02     1\n",
       "-97.15    1\n",
       " 43.14    1\n",
       "Name: count, Length: 312, dtype: int64"
      ]
     },
     "execution_count": 14,
     "metadata": {},
     "output_type": "execute_result"
    }
   ],
   "source": [
    "#Create a categorical target variable, Listing_Gains_Profit, which takes the binary values 1 \n",
    "#when Listing_Gains_Percent is positive and 0 otherwise.\n",
    "\n",
    "market_df['Listing_Gains_Profit'] = np.where(market_df['Listing_Gains_Percent'] > 0, 1, 0)\n",
    "market_df['Listing_Gains_Percent'].value_counts()\n"
   ]
  },
  {
   "cell_type": "code",
   "execution_count": 15,
   "id": "e4bb82b6-9a2b-4688-86bc-566557c160d3",
   "metadata": {},
   "outputs": [
    {
     "data": {
      "text/plain": [
       "Listing_Gains_Profit\n",
       "1    0.545455\n",
       "0    0.454545\n",
       "Name: proportion, dtype: float64"
      ]
     },
     "execution_count": 15,
     "metadata": {},
     "output_type": "execute_result"
    }
   ],
   "source": [
    "# percentage of the IPOs listed at a profit?\n",
    "market_df['Listing_Gains_Profit'].value_counts(normalize=True)"
   ]
  },
  {
   "cell_type": "code",
   "execution_count": 16,
   "id": "d2fc02a6-3aa3-4797-bd0e-2732eb792507",
   "metadata": {},
   "outputs": [
    {
     "name": "stdout",
     "output_type": "stream",
     "text": [
      "<class 'pandas.core.frame.DataFrame'>\n",
      "RangeIndex: 319 entries, 0 to 318\n",
      "Data columns (total 7 columns):\n",
      " #   Column                Non-Null Count  Dtype  \n",
      "---  ------                --------------  -----  \n",
      " 0   Issue_Size            319 non-null    float64\n",
      " 1   Subscription_QIB      319 non-null    float64\n",
      " 2   Subscription_HNI      319 non-null    float64\n",
      " 3   Subscription_RII      319 non-null    float64\n",
      " 4   Subscription_Total    319 non-null    float64\n",
      " 5   Issue_Price           319 non-null    int64  \n",
      " 6   Listing_Gains_Profit  319 non-null    int32  \n",
      "dtypes: float64(5), int32(1), int64(1)\n",
      "memory usage: 16.3 KB\n"
     ]
    }
   ],
   "source": [
    "# Irrelevant columns are droppped from the dataset\n",
    "market_df = market_df.drop(['Date ', 'IPOName', 'Listing_Gains_Percent'], axis=1)\n",
    "market_df.info()"
   ]
  },
  {
   "cell_type": "code",
   "execution_count": 17,
   "id": "142488ec-5131-4446-b268-973d8c4c28ae",
   "metadata": {},
   "outputs": [
    {
     "data": {
      "text/html": [
       "<div>\n",
       "<style scoped>\n",
       "    .dataframe tbody tr th:only-of-type {\n",
       "        vertical-align: middle;\n",
       "    }\n",
       "\n",
       "    .dataframe tbody tr th {\n",
       "        vertical-align: top;\n",
       "    }\n",
       "\n",
       "    .dataframe thead th {\n",
       "        text-align: right;\n",
       "    }\n",
       "</style>\n",
       "<table border=\"1\" class=\"dataframe\">\n",
       "  <thead>\n",
       "    <tr style=\"text-align: right;\">\n",
       "      <th></th>\n",
       "      <th>Issue_Size</th>\n",
       "      <th>Subscription_QIB</th>\n",
       "      <th>Subscription_HNI</th>\n",
       "      <th>Subscription_RII</th>\n",
       "      <th>Subscription_Total</th>\n",
       "      <th>Issue_Price</th>\n",
       "      <th>Listing_Gains_Profit</th>\n",
       "    </tr>\n",
       "  </thead>\n",
       "  <tbody>\n",
       "    <tr>\n",
       "      <th>0</th>\n",
       "      <td>189.80</td>\n",
       "      <td>48.44</td>\n",
       "      <td>106.02</td>\n",
       "      <td>11.08</td>\n",
       "      <td>43.22</td>\n",
       "      <td>165</td>\n",
       "      <td>1</td>\n",
       "    </tr>\n",
       "    <tr>\n",
       "      <th>1</th>\n",
       "      <td>328.70</td>\n",
       "      <td>59.39</td>\n",
       "      <td>51.95</td>\n",
       "      <td>3.79</td>\n",
       "      <td>31.11</td>\n",
       "      <td>145</td>\n",
       "      <td>0</td>\n",
       "    </tr>\n",
       "    <tr>\n",
       "      <th>2</th>\n",
       "      <td>56.25</td>\n",
       "      <td>0.99</td>\n",
       "      <td>16.60</td>\n",
       "      <td>6.25</td>\n",
       "      <td>5.17</td>\n",
       "      <td>75</td>\n",
       "      <td>1</td>\n",
       "    </tr>\n",
       "    <tr>\n",
       "      <th>3</th>\n",
       "      <td>199.80</td>\n",
       "      <td>1.12</td>\n",
       "      <td>3.65</td>\n",
       "      <td>0.62</td>\n",
       "      <td>1.22</td>\n",
       "      <td>165</td>\n",
       "      <td>0</td>\n",
       "    </tr>\n",
       "    <tr>\n",
       "      <th>4</th>\n",
       "      <td>0.00</td>\n",
       "      <td>0.52</td>\n",
       "      <td>1.52</td>\n",
       "      <td>2.26</td>\n",
       "      <td>1.12</td>\n",
       "      <td>75</td>\n",
       "      <td>0</td>\n",
       "    </tr>\n",
       "    <tr>\n",
       "      <th>...</th>\n",
       "      <td>...</td>\n",
       "      <td>...</td>\n",
       "      <td>...</td>\n",
       "      <td>...</td>\n",
       "      <td>...</td>\n",
       "      <td>...</td>\n",
       "      <td>...</td>\n",
       "    </tr>\n",
       "    <tr>\n",
       "      <th>314</th>\n",
       "      <td>840.13</td>\n",
       "      <td>42.42</td>\n",
       "      <td>7.13</td>\n",
       "      <td>2.84</td>\n",
       "      <td>15.59</td>\n",
       "      <td>220</td>\n",
       "      <td>1</td>\n",
       "    </tr>\n",
       "    <tr>\n",
       "      <th>315</th>\n",
       "      <td>562.10</td>\n",
       "      <td>27.48</td>\n",
       "      <td>14.18</td>\n",
       "      <td>24.19</td>\n",
       "      <td>23.25</td>\n",
       "      <td>326</td>\n",
       "      <td>1</td>\n",
       "    </tr>\n",
       "    <tr>\n",
       "      <th>316</th>\n",
       "      <td>792.00</td>\n",
       "      <td>0.51</td>\n",
       "      <td>1.77</td>\n",
       "      <td>3.44</td>\n",
       "      <td>1.39</td>\n",
       "      <td>525</td>\n",
       "      <td>0</td>\n",
       "    </tr>\n",
       "    <tr>\n",
       "      <th>317</th>\n",
       "      <td>755.00</td>\n",
       "      <td>113.82</td>\n",
       "      <td>40.36</td>\n",
       "      <td>12.44</td>\n",
       "      <td>47.19</td>\n",
       "      <td>330</td>\n",
       "      <td>1</td>\n",
       "    </tr>\n",
       "    <tr>\n",
       "      <th>318</th>\n",
       "      <td>500.00</td>\n",
       "      <td>58.81</td>\n",
       "      <td>15.39</td>\n",
       "      <td>8.27</td>\n",
       "      <td>24.23</td>\n",
       "      <td>59</td>\n",
       "      <td>1</td>\n",
       "    </tr>\n",
       "  </tbody>\n",
       "</table>\n",
       "<p>319 rows × 7 columns</p>\n",
       "</div>"
      ],
      "text/plain": [
       "     Issue_Size  Subscription_QIB  Subscription_HNI  Subscription_RII  \\\n",
       "0        189.80             48.44            106.02             11.08   \n",
       "1        328.70             59.39             51.95              3.79   \n",
       "2         56.25              0.99             16.60              6.25   \n",
       "3        199.80              1.12              3.65              0.62   \n",
       "4          0.00              0.52              1.52              2.26   \n",
       "..          ...               ...               ...               ...   \n",
       "314      840.13             42.42              7.13              2.84   \n",
       "315      562.10             27.48             14.18             24.19   \n",
       "316      792.00              0.51              1.77              3.44   \n",
       "317      755.00            113.82             40.36             12.44   \n",
       "318      500.00             58.81             15.39              8.27   \n",
       "\n",
       "     Subscription_Total  Issue_Price  Listing_Gains_Profit  \n",
       "0                 43.22          165                     1  \n",
       "1                 31.11          145                     0  \n",
       "2                  5.17           75                     1  \n",
       "3                  1.22          165                     0  \n",
       "4                  1.12           75                     0  \n",
       "..                  ...          ...                   ...  \n",
       "314               15.59          220                     1  \n",
       "315               23.25          326                     1  \n",
       "316                1.39          525                     0  \n",
       "317               47.19          330                     1  \n",
       "318               24.23           59                     1  \n",
       "\n",
       "[319 rows x 7 columns]"
      ]
     },
     "execution_count": 17,
     "metadata": {},
     "output_type": "execute_result"
    }
   ],
   "source": [
    "market_df"
   ]
  },
  {
   "cell_type": "markdown",
   "id": "47797224-2d31-4428-8dd6-e325a6d2f350",
   "metadata": {},
   "source": [
    "## Visualization"
   ]
  },
  {
   "cell_type": "code",
   "execution_count": 18,
   "id": "202b2c16-ea2e-4a25-ae1c-9dd116a6c6c4",
   "metadata": {},
   "outputs": [
    {
     "data": {
      "text/plain": [
       "<function matplotlib.pyplot.show(close=None, block=None)>"
      ]
     },
     "execution_count": 18,
     "metadata": {},
     "output_type": "execute_result"
    },
    {
     "data": {
      "image/png": "[encoded data removed]",
      "text/plain": [
       "<Figure size 640x480 with 1 Axes>"
      ]
     },
     "metadata": {},
     "output_type": "display_data"
    }
   ],
   "source": [
    "# countplot to visualize the distribution of the target variable\n",
    "sns.countplot(x =\"Listing_Gains_Profit\", data=market_df)\n",
    "plt.title(\"Distribution of IPO Listing Profit Category\")\n",
    "plt.ylabel(\"Frequency\")\n",
    "plt.xlabel(\"Listing Profit (No=0, Yes=1)\")\n",
    "plt.show"
   ]
  },
  {
   "cell_type": "markdown",
   "id": "d6124691-38b2-46a0-9a14-50e3b7a39fe8",
   "metadata": {},
   "source": [
    "#### Outliers Check\n",
    "Plots is used to check for the presence of outliers in each of the continuous variables of the dataset\n"
   ]
  },
  {
   "cell_type": "code",
   "execution_count": 19,
   "id": "e53767f0-58a8-4d28-8736-ee7e5cff4ecc",
   "metadata": {},
   "outputs": [
    {
     "data": {
      "image/png": "[encoded data removed]",
      "text/plain": [
       "<Figure size 640x480 with 1 Axes>"
      ]
     },
     "metadata": {},
     "output_type": "display_data"
    }
   ],
   "source": [
    "#check for the presence of outliers in Issue_Price\n",
    "sns.boxplot(data=market_df, y='Issue_Price')\n",
    "plt.title('Boxplot of Issue_Price')\n",
    "plt.show()"
   ]
  },
  {
   "cell_type": "code",
   "execution_count": 20,
   "id": "83c4caf5-ecf0-4016-9785-b12ef0f96bf7",
   "metadata": {},
   "outputs": [
    {
     "data": {
      "image/png": "[encoded data removed]",
      "text/plain": [
       "<Figure size 640x480 with 1 Axes>"
      ]
     },
     "metadata": {},
     "output_type": "display_data"
    }
   ],
   "source": [
    "sns.boxplot(data=market_df, x='Listing_Gains_Profit', y='Issue_Price')\n",
    "plt.title('Boxplot of Issue_Price with respect to Listing Gains Type')\n",
    "plt.xlabel('Listing Profit (No=0, Yes=1)')\n",
    "plt.show()"
   ]
  },
  {
   "cell_type": "code",
   "execution_count": 21,
   "id": "edca9c8d-d812-41d2-a151-e0c124c6901b",
   "metadata": {},
   "outputs": [
    {
     "data": {
      "image/png": "[encoded data removed]",
      "text/plain": [
       "<Figure size 640x480 with 1 Axes>"
      ]
     },
     "metadata": {},
     "output_type": "display_data"
    }
   ],
   "source": [
    "#check for the presence of outliers in Issue_Size\n",
    "sns.boxplot(data=market_df, y='Issue_Size')\n",
    "plt.title('Boxplot of Issue_Size')\n",
    "plt.show()"
   ]
  },
  {
   "cell_type": "code",
   "execution_count": 22,
   "id": "6d38af93-26bd-47c5-9e9f-61e786a8ad18",
   "metadata": {},
   "outputs": [
    {
     "data": {
      "image/png": "[encoded data removed]",
      "text/plain": [
       "<Figure size 640x480 with 1 Axes>"
      ]
     },
     "metadata": {},
     "output_type": "display_data"
    }
   ],
   "source": [
    "#check for the presence of outliers in Subscription_QIB\n",
    "sns.boxplot(data=market_df, y='Subscription_QIB')\n",
    "plt.title('Boxplot of Subscription_QIB')\n",
    "plt.show()"
   ]
  },
  {
   "cell_type": "code",
   "execution_count": 23,
   "id": "6e01cbec-b076-4ba9-88ab-e6c3b7ac3ddd",
   "metadata": {},
   "outputs": [
    {
     "data": {
      "image/png": "[encoded data removed]",
      "text/plain": [
       "<Figure size 640x480 with 1 Axes>"
      ]
     },
     "metadata": {},
     "output_type": "display_data"
    }
   ],
   "source": [
    "#check for the presence of outliers in Subscription_HNI      \n",
    "sns.boxplot(data=market_df, y='Subscription_HNI')\n",
    "plt.title('Boxplot of Subscription_HNI      ')\n",
    "plt.show()"
   ]
  },
  {
   "cell_type": "code",
   "execution_count": 24,
   "id": "91895543-ca7d-4304-81ab-7077a3a80542",
   "metadata": {},
   "outputs": [
    {
     "data": {
      "image/png": "[encoded data removed]",
      "text/plain": [
       "<Figure size 1000x800 with 2 Axes>"
      ]
     },
     "metadata": {},
     "output_type": "display_data"
    }
   ],
   "source": [
    "# check for correllation\n",
    "plt.figure(figsize=(10,8))\n",
    "sns.heatmap(market_df.corr(), annot=True, cmap='coolwarm', linewidths=0.5)\n",
    "plt.title('Correlation Heatmap of Predictor Variables')\n",
    "plt.show()"
   ]
  },
  {
   "cell_type": "markdown",
   "id": "b8c2a901-3911-4796-9071-143c60100ebf",
   "metadata": {},
   "source": [
    "#### Key Findings from Outlier Investigation\n",
    "\n",
    "* The histogram and the boxplots show that outliers are present in the data and might need outlier treatment.\r\n",
    "* The boxplot of Issue_Price, with respect to Listing_Gains_Profit, shows that there are more outliers for IPOs that listed a loss than there are outliers for IPOs that listed a profit.\r\n",
    "* There are correlations between some variables while others show poor correlation and good correlation.\r\n"
   ]
  },
  {
   "cell_type": "markdown",
   "id": "dff1500e-cbe9-4a31-9aee-6662fc19490b",
   "metadata": {},
   "source": [
    "#### Treating Outliers\n"
   ]
  },
  {
   "cell_type": "code",
   "execution_count": 25,
   "id": "0ea79789-c1c2-4d1c-b864-a062280e24c2",
   "metadata": {},
   "outputs": [
    {
     "data": {
      "text/plain": [
       "Issue_Size              4.853402\n",
       "Subscription_QIB        2.143705\n",
       "Subscription_HNI        3.078445\n",
       "Subscription_RII        3.708274\n",
       "Subscription_Total      2.911907\n",
       "Issue_Price             1.696881\n",
       "Listing_Gains_Profit   -0.183438\n",
       "dtype: float64"
      ]
     },
     "execution_count": 25,
     "metadata": {},
     "output_type": "execute_result"
    }
   ],
   "source": [
    "#check for skewnes for numerical variables\n",
    "market_df.skew()"
   ]
  },
  {
   "cell_type": "markdown",
   "id": "6ca5fe29-7373-48d8-bf0b-e38146e3db47",
   "metadata": {},
   "source": [
    "###### Findings from skewness check\n",
    "Skewness values greater than 1 indicate a significant departure from symmetry, suggesting the presence of outliers or non-normal distribution.\n",
    "\n"
   ]
  },
  {
   "cell_type": "markdown",
   "id": "b6bc22f0-7955-4afb-a72d-577fc6c9278d",
   "metadata": {},
   "source": [
    "##### Handling outlier in Issue_Size \n",
    "Interquartile menthod was used to address the outlierS. I clipped the variable values between the upper and lower bounds."
   ]
  },
  {
   "cell_type": "code",
   "execution_count": 26,
   "id": "c9ca41de-bdfd-4855-b09a-51ec50030de2",
   "metadata": {},
   "outputs": [
    {
     "name": "stdout",
     "output_type": "stream",
     "text": [
      "IQR = 930.995\n",
      "lower = -1227.4875000000002\n",
      "upper = 2496.4925000000003\n"
     ]
    }
   ],
   "source": [
    "#handling outlier in Issue_Size \n",
    "q1 = market_df['Issue_Size'].quantile(q=0.25)\n",
    "q3 = market_df['Issue_Size'].quantile(q=0.75)  \n",
    "iqr = q3 - q1   \n",
    "lower = (q1 - 1.5 * iqr) \n",
    "upper = (q3 + 1.5 * iqr) \n",
    "print('IQR = ', iqr, '\\nlower = ', lower, '\\nupper = ', upper, sep='')"
   ]
  },
  {
   "cell_type": "code",
   "execution_count": 27,
   "id": "f4461d1d-6e80-4d71-b414-7f217994fa3c",
   "metadata": {},
   "outputs": [
    {
     "data": {
      "text/plain": [
       "count     319.000000\n",
       "mean      763.561238\n",
       "std       769.689122\n",
       "min         0.000000\n",
       "25%       169.005000\n",
       "50%       496.250000\n",
       "75%      1100.000000\n",
       "max      2496.492500\n",
       "Name: Issue_Size, dtype: float64"
      ]
     },
     "execution_count": 27,
     "metadata": {},
     "output_type": "execute_result"
    }
   ],
   "source": [
    "# use clip method\n",
    "market_df['Issue_Size'] = market_df['Issue_Size'].clip(lower, upper)\n",
    "market_df['Issue_Size'].describe()"
   ]
  },
  {
   "cell_type": "code",
   "execution_count": 28,
   "id": "bb0f0e77-a479-4ec1-a6d8-38a15d97f96f",
   "metadata": {},
   "outputs": [
    {
     "data": {
      "text/plain": [
       "1.2246204359225623"
      ]
     },
     "execution_count": 28,
     "metadata": {},
     "output_type": "execute_result"
    }
   ],
   "source": [
    "#check for skewness\n",
    "market_df['Issue_Size'].skew()"
   ]
  },
  {
   "cell_type": "markdown",
   "id": "38863bcf-01ef-41b9-b162-9a67ad158e51",
   "metadata": {},
   "source": [
    "##### Handling outlier in Subscription_QIB "
   ]
  },
  {
   "cell_type": "code",
   "execution_count": 29,
   "id": "634afb77-6572-400d-a399-e80f9ee40e9b",
   "metadata": {},
   "outputs": [
    {
     "name": "stdout",
     "output_type": "stream",
     "text": [
      "IQR = 33.48500000000001\n",
      "lower = -49.07750000000001\n",
      "upper = 84.86250000000001\n"
     ]
    }
   ],
   "source": [
    "#handling outlier in Subscription_QIB \n",
    "q1 = market_df['Subscription_QIB'].quantile(q=0.25)\n",
    "q3 = market_df['Subscription_QIB'].quantile(q=0.75)  \n",
    "iqr = q3 - q1   \n",
    "lower = (q1 - 1.5 * iqr) \n",
    "upper = (q3 + 1.5 * iqr) \n",
    "print('IQR = ', iqr, '\\nlower = ', lower, '\\nupper = ', upper, sep='')"
   ]
  },
  {
   "cell_type": "code",
   "execution_count": 30,
   "id": "6079cee9-0c26-4254-988f-d9c194e62e99",
   "metadata": {},
   "outputs": [
    {
     "data": {
      "text/plain": [
       "count    319.000000\n",
       "mean      21.521183\n",
       "std       29.104549\n",
       "min        0.000000\n",
       "25%        1.150000\n",
       "50%        4.940000\n",
       "75%       34.635000\n",
       "max       84.862500\n",
       "Name: Subscription_QIB, dtype: float64"
      ]
     },
     "execution_count": 30,
     "metadata": {},
     "output_type": "execute_result"
    }
   ],
   "source": [
    "# use clip method\n",
    "market_df['Subscription_QIB'] = market_df['Subscription_QIB'].clip(lower, upper)\n",
    "market_df['Subscription_QIB'].describe()"
   ]
  },
  {
   "cell_type": "code",
   "execution_count": 31,
   "id": "f4307e8d-9e8d-4f8e-a54c-f5e1a01aeaee",
   "metadata": {},
   "outputs": [
    {
     "data": {
      "text/plain": [
       "1.262734274613526"
      ]
     },
     "execution_count": 31,
     "metadata": {},
     "output_type": "execute_result"
    }
   ],
   "source": [
    "#check for skewness\n",
    "market_df['Subscription_QIB'].skew()"
   ]
  },
  {
   "cell_type": "markdown",
   "id": "6aef0f63-c517-42d8-be1a-176feab48736",
   "metadata": {},
   "source": [
    "##### Handling outlier in Subscription_HNI "
   ]
  },
  {
   "cell_type": "code",
   "execution_count": 32,
   "id": "14e77245-5283-40f8-86d8-5872b2dfdcc4",
   "metadata": {},
   "outputs": [
    {
     "name": "stdout",
     "output_type": "stream",
     "text": [
      "IQR = 60.839999999999996\n",
      "lower = -90.005\n",
      "upper = 153.355\n"
     ]
    }
   ],
   "source": [
    "#handling outlier in Subscription_QIB \n",
    "q1 = market_df['Subscription_HNI'].quantile(q=0.25)\n",
    "q3 = market_df['Subscription_HNI'].quantile(q=0.75)  \n",
    "iqr = q3 - q1   \n",
    "lower = (q1 - 1.5 * iqr) \n",
    "upper = (q3 + 1.5 * iqr) \n",
    "print('IQR = ', iqr, '\\nlower = ', lower, '\\nupper = ', upper, sep='')"
   ]
  },
  {
   "cell_type": "code",
   "execution_count": 33,
   "id": "95da0869-d003-43dd-ba9e-0577e8f764dd",
   "metadata": {},
   "outputs": [
    {
     "data": {
      "text/plain": [
       "count    319.000000\n",
       "mean      40.356426\n",
       "std       57.427921\n",
       "min        0.000000\n",
       "25%        1.255000\n",
       "50%        5.070000\n",
       "75%       62.095000\n",
       "max      153.355000\n",
       "Name: Subscription_HNI, dtype: float64"
      ]
     },
     "execution_count": 33,
     "metadata": {},
     "output_type": "execute_result"
    }
   ],
   "source": [
    "# use clip method\n",
    "market_df['Subscription_HNI'] = market_df['Subscription_HNI'].clip(lower, upper)\n",
    "market_df['Subscription_HNI'].describe()"
   ]
  },
  {
   "cell_type": "code",
   "execution_count": 34,
   "id": "8e9ed41b-32a9-4b16-a883-e76b0fc66cdf",
   "metadata": {},
   "outputs": [
    {
     "data": {
      "text/plain": [
       "1.1816363175334872"
      ]
     },
     "execution_count": 34,
     "metadata": {},
     "output_type": "execute_result"
    }
   ],
   "source": [
    "#check for skewness\n",
    "market_df['Subscription_HNI'].skew()"
   ]
  },
  {
   "cell_type": "markdown",
   "id": "c7cd83e7-1418-4566-8b1c-c561aaeafef3",
   "metadata": {},
   "source": [
    "##### Handling outlier in Subscription_RII "
   ]
  },
  {
   "cell_type": "code",
   "execution_count": 35,
   "id": "668e9c26-0e38-4b39-b9d1-2792dffd3806",
   "metadata": {},
   "outputs": [
    {
     "name": "stdout",
     "output_type": "stream",
     "text": [
      "IQR = 7.33\n",
      "lower = -9.72\n",
      "upper = 19.6\n"
     ]
    }
   ],
   "source": [
    "#handling outlier in Subscription_QIB \n",
    "q1 = market_df['Subscription_RII'].quantile(q=0.25)\n",
    "q3 = market_df['Subscription_RII'].quantile(q=0.75)  \n",
    "iqr = q3 - q1   \n",
    "lower = (q1 - 1.5 * iqr) \n",
    "upper = (q3 + 1.5 * iqr) \n",
    "print('IQR = ', iqr, '\\nlower = ', lower, '\\nupper = ', upper, sep='')"
   ]
  },
  {
   "cell_type": "code",
   "execution_count": 36,
   "id": "0ec4db20-7580-4510-80a6-08080cd0626c",
   "metadata": {},
   "outputs": [
    {
     "data": {
      "text/plain": [
       "count    319.000000\n",
       "mean       6.060940\n",
       "std        6.176882\n",
       "min        0.000000\n",
       "25%        1.275000\n",
       "50%        3.420000\n",
       "75%        8.605000\n",
       "max       19.600000\n",
       "Name: Subscription_RII, dtype: float64"
      ]
     },
     "execution_count": 36,
     "metadata": {},
     "output_type": "execute_result"
    }
   ],
   "source": [
    "# use clip method\n",
    "market_df['Subscription_RII'] = market_df['Subscription_RII'].clip(lower, upper)\n",
    "market_df['Subscription_RII'].describe()"
   ]
  },
  {
   "cell_type": "code",
   "execution_count": 37,
   "id": "e5c00a09-39a8-43f0-93d5-5c108558b9c6",
   "metadata": {},
   "outputs": [
    {
     "data": {
      "text/plain": [
       "1.12917087322117"
      ]
     },
     "execution_count": 37,
     "metadata": {},
     "output_type": "execute_result"
    }
   ],
   "source": [
    "#check for skewness\n",
    "market_df['Subscription_RII'].skew()"
   ]
  },
  {
   "cell_type": "markdown",
   "id": "d9917cf4-51fd-4839-8a1a-03a92874bb7c",
   "metadata": {},
   "source": [
    "##### Handling outlier in Subscription_Total "
   ]
  },
  {
   "cell_type": "code",
   "execution_count": 38,
   "id": "123e1643-e622-4aa9-bc95-78e415f18562",
   "metadata": {},
   "outputs": [
    {
     "name": "stdout",
     "output_type": "stream",
     "text": [
      "IQR = 31.749999999999996\n",
      "lower = -45.97999999999999\n",
      "upper = 81.01999999999998\n"
     ]
    }
   ],
   "source": [
    "#handling outlier in Subscription_QIB \n",
    "q1 = market_df['Subscription_Total'].quantile(q=0.25)\n",
    "q3 = market_df['Subscription_Total'].quantile(q=0.75)  \n",
    "iqr = q3 - q1   \n",
    "lower = (q1 - 1.5 * iqr) \n",
    "upper = (q3 + 1.5 * iqr) \n",
    "print('IQR = ', iqr, '\\nlower = ', lower, '\\nupper = ', upper, sep='')"
   ]
  },
  {
   "cell_type": "code",
   "execution_count": 39,
   "id": "697e9b4c-5cc9-4f5d-b9c7-d375e50252ef",
   "metadata": {},
   "outputs": [
    {
     "data": {
      "text/plain": [
       "count    319.000000\n",
       "mean      20.456646\n",
       "std       27.217740\n",
       "min        0.000000\n",
       "25%        1.645000\n",
       "50%        4.930000\n",
       "75%       33.395000\n",
       "max       81.020000\n",
       "Name: Subscription_Total, dtype: float64"
      ]
     },
     "execution_count": 39,
     "metadata": {},
     "output_type": "execute_result"
    }
   ],
   "source": [
    "# use clip method\n",
    "market_df['Subscription_Total'] = market_df['Subscription_Total'].clip(lower, upper)\n",
    "market_df['Subscription_Total'].describe()"
   ]
  },
  {
   "cell_type": "code",
   "execution_count": 40,
   "id": "046e30ca-ffce-4028-bb76-7a0e50a6c5d1",
   "metadata": {},
   "outputs": [
    {
     "data": {
      "text/plain": [
       "1.2938804195699385"
      ]
     },
     "execution_count": 40,
     "metadata": {},
     "output_type": "execute_result"
    }
   ],
   "source": [
    "#check for skewness\n",
    "market_df['Subscription_Total'].skew()"
   ]
  },
  {
   "cell_type": "code",
   "execution_count": 41,
   "id": "3defcdd0-9f72-40aa-8796-6453c4ad8902",
   "metadata": {},
   "outputs": [
    {
     "data": {
      "text/plain": [
       "Issue_Size              1.224620\n",
       "Subscription_QIB        1.262734\n",
       "Subscription_HNI        1.181636\n",
       "Subscription_RII        1.129171\n",
       "Subscription_Total      1.293880\n",
       "Issue_Price             1.696881\n",
       "Listing_Gains_Profit   -0.183438\n",
       "dtype: float64"
      ]
     },
     "execution_count": 41,
     "metadata": {},
     "output_type": "execute_result"
    }
   ],
   "source": [
    "# Skweness after treating outliers in the dataset\n",
    "market_df.skew()"
   ]
  },
  {
   "cell_type": "markdown",
   "id": "ac62de25-4a6a-4788-ba6b-efce6501b41b",
   "metadata": {},
   "source": [
    "#### Setting the Target and Predictor Variables"
   ]
  },
  {
   "cell_type": "code",
   "execution_count": 84,
   "id": "a6346778-7e9f-4604-aacf-d0135755d2be",
   "metadata": {},
   "outputs": [
    {
     "name": "stdout",
     "output_type": "stream",
     "text": [
      "_________PREDICTOR VARIABLES_________\n",
      "['Subscription_Total', 'Issue_Price', 'Listing_Gains_Profit', 'Subscription_HNI', 'Issue_Size', 'Subscription_RII', 'Subscription_QIB']\n",
      "_________TARGET VARIABLE_________\n",
      "['Listing_Gains_Profit']\n"
     ]
    }
   ],
   "source": [
    "#Create target and predictor variables\n",
    "target_variable = [\"Listing_Gains_Profit\"]\n",
    "predictor = list(set(list(market_df.columns)) - set(market_df[\"Listing_Gains_Profit\"]))\n",
    "\n",
    "print(\"_________PREDICTOR VARIABLES_________\")\n",
    "print(predictor)\n",
    "print(\"_________TARGET VARIABLE_________\")\n",
    "print(target_variable)"
   ]
  },
  {
   "cell_type": "code",
   "execution_count": 86,
   "id": "457564e9-2f84-41b2-92da-8248af8875dc",
   "metadata": {},
   "outputs": [
    {
     "data": {
      "text/html": [
       "<div>\n",
       "<style scoped>\n",
       "    .dataframe tbody tr th:only-of-type {\n",
       "        vertical-align: middle;\n",
       "    }\n",
       "\n",
       "    .dataframe tbody tr th {\n",
       "        vertical-align: top;\n",
       "    }\n",
       "\n",
       "    .dataframe thead th {\n",
       "        text-align: right;\n",
       "    }\n",
       "</style>\n",
       "<table border=\"1\" class=\"dataframe\">\n",
       "  <thead>\n",
       "    <tr style=\"text-align: right;\">\n",
       "      <th></th>\n",
       "      <th>Issue_Size</th>\n",
       "      <th>Subscription_QIB</th>\n",
       "      <th>Subscription_HNI</th>\n",
       "      <th>Subscription_RII</th>\n",
       "      <th>Subscription_Total</th>\n",
       "      <th>Issue_Price</th>\n",
       "      <th>Listing_Gains_Profit</th>\n",
       "    </tr>\n",
       "  </thead>\n",
       "  <tbody>\n",
       "    <tr>\n",
       "      <th>count</th>\n",
       "      <td>319.000000</td>\n",
       "      <td>319.000000</td>\n",
       "      <td>319.000000</td>\n",
       "      <td>319.000000</td>\n",
       "      <td>319.000000</td>\n",
       "      <td>319.000000</td>\n",
       "      <td>319.000000</td>\n",
       "    </tr>\n",
       "    <tr>\n",
       "      <th>mean</th>\n",
       "      <td>0.305854</td>\n",
       "      <td>0.253601</td>\n",
       "      <td>0.263157</td>\n",
       "      <td>0.309232</td>\n",
       "      <td>0.252489</td>\n",
       "      <td>0.174478</td>\n",
       "      <td>0.545455</td>\n",
       "    </tr>\n",
       "    <tr>\n",
       "      <th>std</th>\n",
       "      <td>0.308308</td>\n",
       "      <td>0.342961</td>\n",
       "      <td>0.374477</td>\n",
       "      <td>0.315147</td>\n",
       "      <td>0.335939</td>\n",
       "      <td>0.164604</td>\n",
       "      <td>0.498712</td>\n",
       "    </tr>\n",
       "    <tr>\n",
       "      <th>min</th>\n",
       "      <td>0.000000</td>\n",
       "      <td>0.000000</td>\n",
       "      <td>0.000000</td>\n",
       "      <td>0.000000</td>\n",
       "      <td>0.000000</td>\n",
       "      <td>0.000000</td>\n",
       "      <td>0.000000</td>\n",
       "    </tr>\n",
       "    <tr>\n",
       "      <th>25%</th>\n",
       "      <td>0.067697</td>\n",
       "      <td>0.013551</td>\n",
       "      <td>0.008184</td>\n",
       "      <td>0.065051</td>\n",
       "      <td>0.020304</td>\n",
       "      <td>0.055349</td>\n",
       "      <td>0.000000</td>\n",
       "    </tr>\n",
       "    <tr>\n",
       "      <th>50%</th>\n",
       "      <td>0.198779</td>\n",
       "      <td>0.058212</td>\n",
       "      <td>0.033061</td>\n",
       "      <td>0.174490</td>\n",
       "      <td>0.060849</td>\n",
       "      <td>0.116279</td>\n",
       "      <td>1.000000</td>\n",
       "    </tr>\n",
       "    <tr>\n",
       "      <th>75%</th>\n",
       "      <td>0.440618</td>\n",
       "      <td>0.408131</td>\n",
       "      <td>0.404910</td>\n",
       "      <td>0.439031</td>\n",
       "      <td>0.412182</td>\n",
       "      <td>0.249302</td>\n",
       "      <td>1.000000</td>\n",
       "    </tr>\n",
       "    <tr>\n",
       "      <th>max</th>\n",
       "      <td>1.000000</td>\n",
       "      <td>1.000000</td>\n",
       "      <td>1.000000</td>\n",
       "      <td>1.000000</td>\n",
       "      <td>1.000000</td>\n",
       "      <td>1.000000</td>\n",
       "      <td>1.000000</td>\n",
       "    </tr>\n",
       "  </tbody>\n",
       "</table>\n",
       "</div>"
      ],
      "text/plain": [
       "       Issue_Size  Subscription_QIB  Subscription_HNI  Subscription_RII  \\\n",
       "count  319.000000        319.000000        319.000000        319.000000   \n",
       "mean     0.305854          0.253601          0.263157          0.309232   \n",
       "std      0.308308          0.342961          0.374477          0.315147   \n",
       "min      0.000000          0.000000          0.000000          0.000000   \n",
       "25%      0.067697          0.013551          0.008184          0.065051   \n",
       "50%      0.198779          0.058212          0.033061          0.174490   \n",
       "75%      0.440618          0.408131          0.404910          0.439031   \n",
       "max      1.000000          1.000000          1.000000          1.000000   \n",
       "\n",
       "       Subscription_Total  Issue_Price  Listing_Gains_Profit  \n",
       "count          319.000000   319.000000            319.000000  \n",
       "mean             0.252489     0.174478              0.545455  \n",
       "std              0.335939     0.164604              0.498712  \n",
       "min              0.000000     0.000000              0.000000  \n",
       "25%              0.020304     0.055349              0.000000  \n",
       "50%              0.060849     0.116279              1.000000  \n",
       "75%              0.412182     0.249302              1.000000  \n",
       "max              1.000000     1.000000              1.000000  "
      ]
     },
     "execution_count": 86,
     "metadata": {},
     "output_type": "execute_result"
    }
   ],
   "source": [
    "#normalize the predictor variable\n",
    "market_df[predictor] = market_df[predictor]/market_df[predictor].max()\n",
    "market_df.describe()"
   ]
  },
  {
   "cell_type": "markdown",
   "id": "a77103a7-8baf-459c-8195-b18b15b46380",
   "metadata": {},
   "source": [
    "In tn the above few steps, I have created an object of the dependent variable called target_variable and also a list of all the features, excluding the target variable Listing_Gains_Profit. \n",
    "\n",
    "Ealier in the analysis, during data exploration, distribution of the variables differed significantly. This could influence the modeling process, so to prevent this, normalization by scaling the predictors was done. exploring the normalize value, it is seen that the normalized values of the predictors lie between 0 and 1."
   ]
  },
  {
   "cell_type": "markdown",
   "id": "3ac9dffc-8c05-45a2-9316-c787aa98c908",
   "metadata": {},
   "source": [
    "#### Creating the Holdout Validation Approach"
   ]
  },
  {
   "cell_type": "code",
   "execution_count": 87,
   "id": "03ae7650-027d-48ea-bb30-b74dd6556186",
   "metadata": {},
   "outputs": [
    {
     "name": "stdout",
     "output_type": "stream",
     "text": [
      "(223, 7)\n",
      "(96, 7)\n"
     ]
    }
   ],
   "source": [
    "X = market_df[predictors].values\n",
    "y = market_df[target_variable].values\n",
    "\n",
    "X_train, X_test, y_train, y_test = train_test_split(X, y, test_size=0.30, random_state=100)\n",
    "print(X_train.shape); print(X_test.shape)"
   ]
  },
  {
   "cell_type": "markdown",
   "id": "fd3fefc7-23b0-4a6f-90cd-593d749517cd",
   "metadata": {},
   "source": [
    "hold out validation approach was usedto model evaluation. In this approach, I divided the data in the 70:30 ratio, where I will use 70% of the data for training the model, while the other 30% of the data to test the model. "
   ]
  },
  {
   "cell_type": "markdown",
   "id": "8cfea42f-a939-45e3-b827-ad40788105e6",
   "metadata": {},
   "source": [
    "#### Define the Deep Learning Classification Model"
   ]
  },
  {
   "cell_type": "code",
   "execution_count": 88,
   "id": "3c59ba86-c0ff-486c-b40b-bd2e6a01cb70",
   "metadata": {},
   "outputs": [
    {
     "name": "stderr",
     "output_type": "stream",
     "text": [
      "F:\\Anaconda\\Lib\\site-packages\\keras\\src\\layers\\core\\dense.py:87: UserWarning: Do not pass an `input_shape`/`input_dim` argument to a layer. When using Sequential models, prefer using an `Input(shape)` object as the first layer in the model instead.\n",
      "  super().__init__(activity_regularizer=activity_regularizer, **kwargs)\n"
     ]
    }
   ],
   "source": [
    "# defining the model used\n",
    "tf.random.set_seed(100)\n",
    "model = tf.keras.Sequential()\n",
    "model.add(tf.keras.layers.Dense(32, input_shape = (X_train.shape[1],), activation = 'relu'))\n",
    "model.add(tf.keras.layers.Dense(16, activation= 'relu'))\n",
    "model.add(tf.keras.layers.Dense(8, activation= 'relu'))\n",
    "model.add(tf.keras.layers.Dense(4, activation= 'relu'))\n",
    "model.add(tf.keras.layers.Dense(1, activation='sigmoid'))    "
   ]
  },
  {
   "cell_type": "markdown",
   "id": "8237989e-6583-4e6b-bb47-9220c7ebb942",
   "metadata": {},
   "source": [
    "In this step, above I have defined the model by instantiating the sequential model class in TensorFlow's Keras. \n",
    "\n",
    "The model architecture is comprised of four hidden layers with `relu` as the activation function. \n",
    "\n",
    "The output layer uses a `sigmoid` activation function, which is a good choice for a binary classification model."
   ]
  },
  {
   "cell_type": "markdown",
   "id": "5b65cbcf-2f00-473b-803d-a1761c92d993",
   "metadata": {},
   "source": [
    "#### Compile and Train the Model"
   ]
  },
  {
   "cell_type": "code",
   "execution_count": 89,
   "id": "6637ac51-48f2-49b8-89fb-c6386807aa74",
   "metadata": {},
   "outputs": [],
   "source": [
    "model.compile(optimizer=tf.keras.optimizers.Adam(0.001),\n",
    "              loss=tf.keras.losses.BinaryCrossentropy(),\n",
    "              metrics=['accuracy'])"
   ]
  },
  {
   "cell_type": "code",
   "execution_count": 90,
   "id": "157cb813-e219-4cb5-9d19-6d766e17bdbc",
   "metadata": {},
   "outputs": [
    {
     "data": {
      "text/html": [
       "<pre style=\"white-space:pre;overflow-x:auto;line-height:normal;font-family:Menlo,'DejaVu Sans Mono',consolas,'Courier New',monospace\"><span style=\"font-weight: bold\">Model: \"sequential_5\"</span>\n",
       "</pre>\n"
      ],
      "text/plain": [
       "\u001b[1mModel: \"sequential_5\"\u001b[0m\n"
      ]
     },
     "metadata": {},
     "output_type": "display_data"
    },
    {
     "data": {
      "text/html": [
       "<pre style=\"white-space:pre;overflow-x:auto;line-height:normal;font-family:Menlo,'DejaVu Sans Mono',consolas,'Courier New',monospace\">┏━━━━━━━━━━━━━━━━━━━━━━━━━━━━━━━━━━━━━━┳━━━━━━━━━━━━━━━━━━━━━━━━━━━━━┳━━━━━━━━━━━━━━━━━┓\n",
       "┃<span style=\"font-weight: bold\"> Layer (type)                         </span>┃<span style=\"font-weight: bold\"> Output Shape                </span>┃<span style=\"font-weight: bold\">         Param # </span>┃\n",
       "┡━━━━━━━━━━━━━━━━━━━━━━━━━━━━━━━━━━━━━━╇━━━━━━━━━━━━━━━━━━━━━━━━━━━━━╇━━━━━━━━━━━━━━━━━┩\n",
       "│ dense_25 (<span style=\"color: #0087ff; text-decoration-color: #0087ff\">Dense</span>)                     │ (<span style=\"color: #00d7ff; text-decoration-color: #00d7ff\">None</span>, <span style=\"color: #00af00; text-decoration-color: #00af00\">32</span>)                  │             <span style=\"color: #00af00; text-decoration-color: #00af00\">256</span> │\n",
       "├──────────────────────────────────────┼─────────────────────────────┼─────────────────┤\n",
       "│ dense_26 (<span style=\"color: #0087ff; text-decoration-color: #0087ff\">Dense</span>)                     │ (<span style=\"color: #00d7ff; text-decoration-color: #00d7ff\">None</span>, <span style=\"color: #00af00; text-decoration-color: #00af00\">16</span>)                  │             <span style=\"color: #00af00; text-decoration-color: #00af00\">528</span> │\n",
       "├──────────────────────────────────────┼─────────────────────────────┼─────────────────┤\n",
       "│ dense_27 (<span style=\"color: #0087ff; text-decoration-color: #0087ff\">Dense</span>)                     │ (<span style=\"color: #00d7ff; text-decoration-color: #00d7ff\">None</span>, <span style=\"color: #00af00; text-decoration-color: #00af00\">8</span>)                   │             <span style=\"color: #00af00; text-decoration-color: #00af00\">136</span> │\n",
       "├──────────────────────────────────────┼─────────────────────────────┼─────────────────┤\n",
       "│ dense_28 (<span style=\"color: #0087ff; text-decoration-color: #0087ff\">Dense</span>)                     │ (<span style=\"color: #00d7ff; text-decoration-color: #00d7ff\">None</span>, <span style=\"color: #00af00; text-decoration-color: #00af00\">4</span>)                   │              <span style=\"color: #00af00; text-decoration-color: #00af00\">36</span> │\n",
       "├──────────────────────────────────────┼─────────────────────────────┼─────────────────┤\n",
       "│ dense_29 (<span style=\"color: #0087ff; text-decoration-color: #0087ff\">Dense</span>)                     │ (<span style=\"color: #00d7ff; text-decoration-color: #00d7ff\">None</span>, <span style=\"color: #00af00; text-decoration-color: #00af00\">1</span>)                   │               <span style=\"color: #00af00; text-decoration-color: #00af00\">5</span> │\n",
       "└──────────────────────────────────────┴─────────────────────────────┴─────────────────┘\n",
       "</pre>\n"
      ],
      "text/plain": [
       "┏━━━━━━━━━━━━━━━━━━━━━━━━━━━━━━━━━━━━━━┳━━━━━━━━━━━━━━━━━━━━━━━━━━━━━┳━━━━━━━━━━━━━━━━━┓\n",
       "┃\u001b[1m \u001b[0m\u001b[1mLayer (type)                        \u001b[0m\u001b[1m \u001b[0m┃\u001b[1m \u001b[0m\u001b[1mOutput Shape               \u001b[0m\u001b[1m \u001b[0m┃\u001b[1m \u001b[0m\u001b[1m        Param #\u001b[0m\u001b[1m \u001b[0m┃\n",
       "┡━━━━━━━━━━━━━━━━━━━━━━━━━━━━━━━━━━━━━━╇━━━━━━━━━━━━━━━━━━━━━━━━━━━━━╇━━━━━━━━━━━━━━━━━┩\n",
       "│ dense_25 (\u001b[38;5;33mDense\u001b[0m)                     │ (\u001b[38;5;45mNone\u001b[0m, \u001b[38;5;34m32\u001b[0m)                  │             \u001b[38;5;34m256\u001b[0m │\n",
       "├──────────────────────────────────────┼─────────────────────────────┼─────────────────┤\n",
       "│ dense_26 (\u001b[38;5;33mDense\u001b[0m)                     │ (\u001b[38;5;45mNone\u001b[0m, \u001b[38;5;34m16\u001b[0m)                  │             \u001b[38;5;34m528\u001b[0m │\n",
       "├──────────────────────────────────────┼─────────────────────────────┼─────────────────┤\n",
       "│ dense_27 (\u001b[38;5;33mDense\u001b[0m)                     │ (\u001b[38;5;45mNone\u001b[0m, \u001b[38;5;34m8\u001b[0m)                   │             \u001b[38;5;34m136\u001b[0m │\n",
       "├──────────────────────────────────────┼─────────────────────────────┼─────────────────┤\n",
       "│ dense_28 (\u001b[38;5;33mDense\u001b[0m)                     │ (\u001b[38;5;45mNone\u001b[0m, \u001b[38;5;34m4\u001b[0m)                   │              \u001b[38;5;34m36\u001b[0m │\n",
       "├──────────────────────────────────────┼─────────────────────────────┼─────────────────┤\n",
       "│ dense_29 (\u001b[38;5;33mDense\u001b[0m)                     │ (\u001b[38;5;45mNone\u001b[0m, \u001b[38;5;34m1\u001b[0m)                   │               \u001b[38;5;34m5\u001b[0m │\n",
       "└──────────────────────────────────────┴─────────────────────────────┴─────────────────┘\n"
      ]
     },
     "metadata": {},
     "output_type": "display_data"
    },
    {
     "data": {
      "text/html": [
       "<pre style=\"white-space:pre;overflow-x:auto;line-height:normal;font-family:Menlo,'DejaVu Sans Mono',consolas,'Courier New',monospace\"><span style=\"font-weight: bold\"> Total params: </span><span style=\"color: #00af00; text-decoration-color: #00af00\">961</span> (3.75 KB)\n",
       "</pre>\n"
      ],
      "text/plain": [
       "\u001b[1m Total params: \u001b[0m\u001b[38;5;34m961\u001b[0m (3.75 KB)\n"
      ]
     },
     "metadata": {},
     "output_type": "display_data"
    },
    {
     "data": {
      "text/html": [
       "<pre style=\"white-space:pre;overflow-x:auto;line-height:normal;font-family:Menlo,'DejaVu Sans Mono',consolas,'Courier New',monospace\"><span style=\"font-weight: bold\"> Trainable params: </span><span style=\"color: #00af00; text-decoration-color: #00af00\">961</span> (3.75 KB)\n",
       "</pre>\n"
      ],
      "text/plain": [
       "\u001b[1m Trainable params: \u001b[0m\u001b[38;5;34m961\u001b[0m (3.75 KB)\n"
      ]
     },
     "metadata": {},
     "output_type": "display_data"
    },
    {
     "data": {
      "text/html": [
       "<pre style=\"white-space:pre;overflow-x:auto;line-height:normal;font-family:Menlo,'DejaVu Sans Mono',consolas,'Courier New',monospace\"><span style=\"font-weight: bold\"> Non-trainable params: </span><span style=\"color: #00af00; text-decoration-color: #00af00\">0</span> (0.00 B)\n",
       "</pre>\n"
      ],
      "text/plain": [
       "\u001b[1m Non-trainable params: \u001b[0m\u001b[38;5;34m0\u001b[0m (0.00 B)\n"
      ]
     },
     "metadata": {},
     "output_type": "display_data"
    },
    {
     "name": "stdout",
     "output_type": "stream",
     "text": [
      "None\n"
     ]
    }
   ],
   "source": [
    "print(model.summary())"
   ]
  },
  {
   "cell_type": "code",
   "execution_count": 94,
   "id": "d6e6941c-ff56-42aa-9551-d5c71f345973",
   "metadata": {},
   "outputs": [
    {
     "name": "stdout",
     "output_type": "stream",
     "text": [
      "Epoch 1/250\n",
      "\u001b[1m7/7\u001b[0m \u001b[32m━━━━━━━━━━━━━━━━━━━━\u001b[0m\u001b[37m\u001b[0m \u001b[1m0s\u001b[0m 7ms/step - accuracy: 1.0000 - loss: 5.1829e-05 \n",
      "Epoch 2/250\n",
      "\u001b[1m7/7\u001b[0m \u001b[32m━━━━━━━━━━━━━━━━━━━━\u001b[0m\u001b[37m\u001b[0m \u001b[1m0s\u001b[0m 8ms/step - accuracy: 1.0000 - loss: 5.1330e-05 \n",
      "Epoch 3/250\n",
      "\u001b[1m7/7\u001b[0m \u001b[32m━━━━━━━━━━━━━━━━━━━━\u001b[0m\u001b[37m\u001b[0m \u001b[1m0s\u001b[0m 9ms/step - accuracy: 1.0000 - loss: 5.0838e-05 \n",
      "Epoch 4/250\n",
      "\u001b[1m7/7\u001b[0m \u001b[32m━━━━━━━━━━━━━━━━━━━━\u001b[0m\u001b[37m\u001b[0m \u001b[1m0s\u001b[0m 9ms/step - accuracy: 1.0000 - loss: 5.0351e-05 \n",
      "Epoch 5/250\n",
      "\u001b[1m7/7\u001b[0m \u001b[32m━━━━━━━━━━━━━━━━━━━━\u001b[0m\u001b[37m\u001b[0m \u001b[1m0s\u001b[0m 8ms/step - accuracy: 1.0000 - loss: 4.9871e-05 \n",
      "Epoch 6/250\n",
      "\u001b[1m7/7\u001b[0m \u001b[32m━━━━━━━━━━━━━━━━━━━━\u001b[0m\u001b[37m\u001b[0m \u001b[1m0s\u001b[0m 8ms/step - accuracy: 1.0000 - loss: 4.9397e-05 \n",
      "Epoch 7/250\n",
      "\u001b[1m7/7\u001b[0m \u001b[32m━━━━━━━━━━━━━━━━━━━━\u001b[0m\u001b[37m\u001b[0m \u001b[1m0s\u001b[0m 5ms/step - accuracy: 1.0000 - loss: 4.8930e-05 \n",
      "Epoch 8/250\n",
      "\u001b[1m7/7\u001b[0m \u001b[32m━━━━━━━━━━━━━━━━━━━━\u001b[0m\u001b[37m\u001b[0m \u001b[1m0s\u001b[0m 6ms/step - accuracy: 1.0000 - loss: 4.8469e-05 \n",
      "Epoch 9/250\n",
      "\u001b[1m7/7\u001b[0m \u001b[32m━━━━━━━━━━━━━━━━━━━━\u001b[0m\u001b[37m\u001b[0m \u001b[1m0s\u001b[0m 5ms/step - accuracy: 1.0000 - loss: 4.8014e-05 \n",
      "Epoch 10/250\n",
      "\u001b[1m7/7\u001b[0m \u001b[32m━━━━━━━━━━━━━━━━━━━━\u001b[0m\u001b[37m\u001b[0m \u001b[1m0s\u001b[0m 6ms/step - accuracy: 1.0000 - loss: 4.7563e-05 \n",
      "Epoch 11/250\n",
      "\u001b[1m7/7\u001b[0m \u001b[32m━━━━━━━━━━━━━━━━━━━━\u001b[0m\u001b[37m\u001b[0m \u001b[1m0s\u001b[0m 8ms/step - accuracy: 1.0000 - loss: 4.7120e-05 \n",
      "Epoch 12/250\n",
      "\u001b[1m7/7\u001b[0m \u001b[32m━━━━━━━━━━━━━━━━━━━━\u001b[0m\u001b[37m\u001b[0m \u001b[1m0s\u001b[0m 9ms/step - accuracy: 1.0000 - loss: 4.6682e-05 \n",
      "Epoch 13/250\n",
      "\u001b[1m7/7\u001b[0m \u001b[32m━━━━━━━━━━━━━━━━━━━━\u001b[0m\u001b[37m\u001b[0m \u001b[1m0s\u001b[0m 8ms/step - accuracy: 1.0000 - loss: 4.6249e-05 \n",
      "Epoch 14/250\n",
      "\u001b[1m7/7\u001b[0m \u001b[32m━━━━━━━━━━━━━━━━━━━━\u001b[0m\u001b[37m\u001b[0m \u001b[1m0s\u001b[0m 9ms/step - accuracy: 1.0000 - loss: 4.5822e-05 \n",
      "Epoch 15/250\n",
      "\u001b[1m7/7\u001b[0m \u001b[32m━━━━━━━━━━━━━━━━━━━━\u001b[0m\u001b[37m\u001b[0m \u001b[1m0s\u001b[0m 6ms/step - accuracy: 1.0000 - loss: 4.5400e-05 \n",
      "Epoch 16/250\n",
      "\u001b[1m7/7\u001b[0m \u001b[32m━━━━━━━━━━━━━━━━━━━━\u001b[0m\u001b[37m\u001b[0m \u001b[1m0s\u001b[0m 10ms/step - accuracy: 1.0000 - loss: 4.4984e-05 \n",
      "Epoch 17/250\n",
      "\u001b[1m7/7\u001b[0m \u001b[32m━━━━━━━━━━━━━━━━━━━━\u001b[0m\u001b[37m\u001b[0m \u001b[1m0s\u001b[0m 8ms/step - accuracy: 1.0000 - loss: 4.4573e-05 \n",
      "Epoch 18/250\n",
      "\u001b[1m7/7\u001b[0m \u001b[32m━━━━━━━━━━━━━━━━━━━━\u001b[0m\u001b[37m\u001b[0m \u001b[1m0s\u001b[0m 8ms/step - accuracy: 1.0000 - loss: 4.4166e-05 \n",
      "Epoch 19/250\n",
      "\u001b[1m7/7\u001b[0m \u001b[32m━━━━━━━━━━━━━━━━━━━━\u001b[0m\u001b[37m\u001b[0m \u001b[1m0s\u001b[0m 8ms/step - accuracy: 1.0000 - loss: 4.3766e-05 \n",
      "Epoch 20/250\n",
      "\u001b[1m7/7\u001b[0m \u001b[32m━━━━━━━━━━━━━━━━━━━━\u001b[0m\u001b[37m\u001b[0m \u001b[1m0s\u001b[0m 8ms/step - accuracy: 1.0000 - loss: 4.3369e-05 \n",
      "Epoch 21/250\n",
      "\u001b[1m7/7\u001b[0m \u001b[32m━━━━━━━━━━━━━━━━━━━━\u001b[0m\u001b[37m\u001b[0m \u001b[1m0s\u001b[0m 8ms/step - accuracy: 1.0000 - loss: 4.2978e-05 \n",
      "Epoch 22/250\n",
      "\u001b[1m7/7\u001b[0m \u001b[32m━━━━━━━━━━━━━━━━━━━━\u001b[0m\u001b[37m\u001b[0m \u001b[1m0s\u001b[0m 8ms/step - accuracy: 1.0000 - loss: 4.2592e-05 \n",
      "Epoch 23/250\n",
      "\u001b[1m7/7\u001b[0m \u001b[32m━━━━━━━━━━━━━━━━━━━━\u001b[0m\u001b[37m\u001b[0m \u001b[1m0s\u001b[0m 8ms/step - accuracy: 1.0000 - loss: 4.2210e-05 \n",
      "Epoch 24/250\n",
      "\u001b[1m7/7\u001b[0m \u001b[32m━━━━━━━━━━━━━━━━━━━━\u001b[0m\u001b[37m\u001b[0m \u001b[1m0s\u001b[0m 8ms/step - accuracy: 1.0000 - loss: 4.1833e-05 \n",
      "Epoch 25/250\n",
      "\u001b[1m7/7\u001b[0m \u001b[32m━━━━━━━━━━━━━━━━━━━━\u001b[0m\u001b[37m\u001b[0m \u001b[1m0s\u001b[0m 6ms/step - accuracy: 1.0000 - loss: 4.1460e-05 \n",
      "Epoch 26/250\n",
      "\u001b[1m7/7\u001b[0m \u001b[32m━━━━━━━━━━━━━━━━━━━━\u001b[0m\u001b[37m\u001b[0m \u001b[1m0s\u001b[0m 6ms/step - accuracy: 1.0000 - loss: 4.1092e-05 \n",
      "Epoch 27/250\n",
      "\u001b[1m7/7\u001b[0m \u001b[32m━━━━━━━━━━━━━━━━━━━━\u001b[0m\u001b[37m\u001b[0m \u001b[1m0s\u001b[0m 6ms/step - accuracy: 1.0000 - loss: 4.0729e-05 \n",
      "Epoch 28/250\n",
      "\u001b[1m7/7\u001b[0m \u001b[32m━━━━━━━━━━━━━━━━━━━━\u001b[0m\u001b[37m\u001b[0m \u001b[1m0s\u001b[0m 6ms/step - accuracy: 1.0000 - loss: 4.0370e-05 \n",
      "Epoch 29/250\n",
      "\u001b[1m7/7\u001b[0m \u001b[32m━━━━━━━━━━━━━━━━━━━━\u001b[0m\u001b[37m\u001b[0m \u001b[1m0s\u001b[0m 6ms/step - accuracy: 1.0000 - loss: 4.0014e-05 \n",
      "Epoch 30/250\n",
      "\u001b[1m7/7\u001b[0m \u001b[32m━━━━━━━━━━━━━━━━━━━━\u001b[0m\u001b[37m\u001b[0m \u001b[1m0s\u001b[0m 8ms/step - accuracy: 1.0000 - loss: 3.9664e-05 \n",
      "Epoch 31/250\n",
      "\u001b[1m7/7\u001b[0m \u001b[32m━━━━━━━━━━━━━━━━━━━━\u001b[0m\u001b[37m\u001b[0m \u001b[1m0s\u001b[0m 6ms/step - accuracy: 1.0000 - loss: 3.9317e-05 \n",
      "Epoch 32/250\n",
      "\u001b[1m7/7\u001b[0m \u001b[32m━━━━━━━━━━━━━━━━━━━━\u001b[0m\u001b[37m\u001b[0m \u001b[1m0s\u001b[0m 6ms/step - accuracy: 1.0000 - loss: 3.8975e-05 \n",
      "Epoch 33/250\n",
      "\u001b[1m7/7\u001b[0m \u001b[32m━━━━━━━━━━━━━━━━━━━━\u001b[0m\u001b[37m\u001b[0m \u001b[1m0s\u001b[0m 8ms/step - accuracy: 1.0000 - loss: 3.8636e-05 \n",
      "Epoch 34/250\n",
      "\u001b[1m7/7\u001b[0m \u001b[32m━━━━━━━━━━━━━━━━━━━━\u001b[0m\u001b[37m\u001b[0m \u001b[1m0s\u001b[0m 8ms/step - accuracy: 1.0000 - loss: 3.8302e-05 \n",
      "Epoch 35/250\n",
      "\u001b[1m7/7\u001b[0m \u001b[32m━━━━━━━━━━━━━━━━━━━━\u001b[0m\u001b[37m\u001b[0m \u001b[1m0s\u001b[0m 7ms/step - accuracy: 1.0000 - loss: 3.7971e-05 \n",
      "Epoch 36/250\n",
      "\u001b[1m7/7\u001b[0m \u001b[32m━━━━━━━━━━━━━━━━━━━━\u001b[0m\u001b[37m\u001b[0m \u001b[1m0s\u001b[0m 8ms/step - accuracy: 1.0000 - loss: 3.7645e-05 \n",
      "Epoch 37/250\n",
      "\u001b[1m7/7\u001b[0m \u001b[32m━━━━━━━━━━━━━━━━━━━━\u001b[0m\u001b[37m\u001b[0m \u001b[1m0s\u001b[0m 5ms/step - accuracy: 1.0000 - loss: 3.7322e-05 \n",
      "Epoch 38/250\n",
      "\u001b[1m7/7\u001b[0m \u001b[32m━━━━━━━━━━━━━━━━━━━━\u001b[0m\u001b[37m\u001b[0m \u001b[1m0s\u001b[0m 6ms/step - accuracy: 1.0000 - loss: 3.7002e-05 \n",
      "Epoch 39/250\n",
      "\u001b[1m7/7\u001b[0m \u001b[32m━━━━━━━━━━━━━━━━━━━━\u001b[0m\u001b[37m\u001b[0m \u001b[1m0s\u001b[0m 8ms/step - accuracy: 1.0000 - loss: 3.6687e-05 \n",
      "Epoch 40/250\n",
      "\u001b[1m7/7\u001b[0m \u001b[32m━━━━━━━━━━━━━━━━━━━━\u001b[0m\u001b[37m\u001b[0m \u001b[1m0s\u001b[0m 9ms/step - accuracy: 1.0000 - loss: 3.6375e-05 \n",
      "Epoch 41/250\n",
      "\u001b[1m7/7\u001b[0m \u001b[32m━━━━━━━━━━━━━━━━━━━━\u001b[0m\u001b[37m\u001b[0m \u001b[1m0s\u001b[0m 9ms/step - accuracy: 1.0000 - loss: 3.6066e-05 \n",
      "Epoch 42/250\n",
      "\u001b[1m7/7\u001b[0m \u001b[32m━━━━━━━━━━━━━━━━━━━━\u001b[0m\u001b[37m\u001b[0m \u001b[1m0s\u001b[0m 5ms/step - accuracy: 1.0000 - loss: 3.5762e-05 \n",
      "Epoch 43/250\n",
      "\u001b[1m7/7\u001b[0m \u001b[32m━━━━━━━━━━━━━━━━━━━━\u001b[0m\u001b[37m\u001b[0m \u001b[1m0s\u001b[0m 10ms/step - accuracy: 1.0000 - loss: 3.5460e-05 \n",
      "Epoch 44/250\n",
      "\u001b[1m7/7\u001b[0m \u001b[32m━━━━━━━━━━━━━━━━━━━━\u001b[0m\u001b[37m\u001b[0m \u001b[1m0s\u001b[0m 6ms/step - accuracy: 1.0000 - loss: 3.5162e-05 \n",
      "Epoch 45/250\n",
      "\u001b[1m7/7\u001b[0m \u001b[32m━━━━━━━━━━━━━━━━━━━━\u001b[0m\u001b[37m\u001b[0m \u001b[1m0s\u001b[0m 6ms/step - accuracy: 1.0000 - loss: 3.4868e-05 \n",
      "Epoch 46/250\n",
      "\u001b[1m7/7\u001b[0m \u001b[32m━━━━━━━━━━━━━━━━━━━━\u001b[0m\u001b[37m\u001b[0m \u001b[1m0s\u001b[0m 8ms/step - accuracy: 1.0000 - loss: 3.4576e-05 \n",
      "Epoch 47/250\n",
      "\u001b[1m7/7\u001b[0m \u001b[32m━━━━━━━━━━━━━━━━━━━━\u001b[0m\u001b[37m\u001b[0m \u001b[1m0s\u001b[0m 8ms/step - accuracy: 1.0000 - loss: 3.4288e-05 \n",
      "Epoch 48/250\n",
      "\u001b[1m7/7\u001b[0m \u001b[32m━━━━━━━━━━━━━━━━━━━━\u001b[0m\u001b[37m\u001b[0m \u001b[1m0s\u001b[0m 8ms/step - accuracy: 1.0000 - loss: 3.4004e-05 \n",
      "Epoch 49/250\n",
      "\u001b[1m7/7\u001b[0m \u001b[32m━━━━━━━━━━━━━━━━━━━━\u001b[0m\u001b[37m\u001b[0m \u001b[1m0s\u001b[0m 6ms/step - accuracy: 1.0000 - loss: 3.3722e-05 \n",
      "Epoch 50/250\n",
      "\u001b[1m7/7\u001b[0m \u001b[32m━━━━━━━━━━━━━━━━━━━━\u001b[0m\u001b[37m\u001b[0m \u001b[1m0s\u001b[0m 6ms/step - accuracy: 1.0000 - loss: 3.3444e-05 \n",
      "Epoch 51/250\n",
      "\u001b[1m7/7\u001b[0m \u001b[32m━━━━━━━━━━━━━━━━━━━━\u001b[0m\u001b[37m\u001b[0m \u001b[1m0s\u001b[0m 9ms/step - accuracy: 1.0000 - loss: 3.3168e-05 \n",
      "Epoch 52/250\n",
      "\u001b[1m7/7\u001b[0m \u001b[32m━━━━━━━━━━━━━━━━━━━━\u001b[0m\u001b[37m\u001b[0m \u001b[1m0s\u001b[0m 7ms/step - accuracy: 1.0000 - loss: 3.2896e-05 \n",
      "Epoch 53/250\n",
      "\u001b[1m7/7\u001b[0m \u001b[32m━━━━━━━━━━━━━━━━━━━━\u001b[0m\u001b[37m\u001b[0m \u001b[1m0s\u001b[0m 8ms/step - accuracy: 1.0000 - loss: 3.2627e-05 \n",
      "Epoch 54/250\n",
      "\u001b[1m7/7\u001b[0m \u001b[32m━━━━━━━━━━━━━━━━━━━━\u001b[0m\u001b[37m\u001b[0m \u001b[1m0s\u001b[0m 7ms/step - accuracy: 1.0000 - loss: 3.2360e-05 \n",
      "Epoch 55/250\n",
      "\u001b[1m7/7\u001b[0m \u001b[32m━━━━━━━━━━━━━━━━━━━━\u001b[0m\u001b[37m\u001b[0m \u001b[1m0s\u001b[0m 7ms/step - accuracy: 1.0000 - loss: 3.2097e-05 \n",
      "Epoch 56/250\n",
      "\u001b[1m7/7\u001b[0m \u001b[32m━━━━━━━━━━━━━━━━━━━━\u001b[0m\u001b[37m\u001b[0m \u001b[1m0s\u001b[0m 6ms/step - accuracy: 1.0000 - loss: 3.1836e-05 \n",
      "Epoch 57/250\n",
      "\u001b[1m7/7\u001b[0m \u001b[32m━━━━━━━━━━━━━━━━━━━━\u001b[0m\u001b[37m\u001b[0m \u001b[1m0s\u001b[0m 6ms/step - accuracy: 1.0000 - loss: 3.1578e-05 \n",
      "Epoch 58/250\n",
      "\u001b[1m7/7\u001b[0m \u001b[32m━━━━━━━━━━━━━━━━━━━━\u001b[0m\u001b[37m\u001b[0m \u001b[1m0s\u001b[0m 6ms/step - accuracy: 1.0000 - loss: 3.1323e-05 \n",
      "Epoch 59/250\n",
      "\u001b[1m7/7\u001b[0m \u001b[32m━━━━━━━━━━━━━━━━━━━━\u001b[0m\u001b[37m\u001b[0m \u001b[1m0s\u001b[0m 6ms/step - accuracy: 1.0000 - loss: 3.1071e-05 \n",
      "Epoch 60/250\n",
      "\u001b[1m7/7\u001b[0m \u001b[32m━━━━━━━━━━━━━━━━━━━━\u001b[0m\u001b[37m\u001b[0m \u001b[1m0s\u001b[0m 6ms/step - accuracy: 1.0000 - loss: 3.0821e-05 \n",
      "Epoch 61/250\n",
      "\u001b[1m7/7\u001b[0m \u001b[32m━━━━━━━━━━━━━━━━━━━━\u001b[0m\u001b[37m\u001b[0m \u001b[1m0s\u001b[0m 6ms/step - accuracy: 1.0000 - loss: 3.0574e-05 \n",
      "Epoch 62/250\n",
      "\u001b[1m7/7\u001b[0m \u001b[32m━━━━━━━━━━━━━━━━━━━━\u001b[0m\u001b[37m\u001b[0m \u001b[1m0s\u001b[0m 6ms/step - accuracy: 1.0000 - loss: 3.0330e-05 \n",
      "Epoch 63/250\n",
      "\u001b[1m7/7\u001b[0m \u001b[32m━━━━━━━━━━━━━━━━━━━━\u001b[0m\u001b[37m\u001b[0m \u001b[1m0s\u001b[0m 6ms/step - accuracy: 1.0000 - loss: 3.0088e-05 \n",
      "Epoch 64/250\n",
      "\u001b[1m7/7\u001b[0m \u001b[32m━━━━━━━━━━━━━━━━━━━━\u001b[0m\u001b[37m\u001b[0m \u001b[1m0s\u001b[0m 5ms/step - accuracy: 1.0000 - loss: 2.9849e-05 \n",
      "Epoch 65/250\n",
      "\u001b[1m7/7\u001b[0m \u001b[32m━━━━━━━━━━━━━━━━━━━━\u001b[0m\u001b[37m\u001b[0m \u001b[1m0s\u001b[0m 6ms/step - accuracy: 1.0000 - loss: 2.9612e-05 \n",
      "Epoch 66/250\n",
      "\u001b[1m7/7\u001b[0m \u001b[32m━━━━━━━━━━━━━━━━━━━━\u001b[0m\u001b[37m\u001b[0m \u001b[1m0s\u001b[0m 6ms/step - accuracy: 1.0000 - loss: 2.9378e-05 \n",
      "Epoch 67/250\n",
      "\u001b[1m7/7\u001b[0m \u001b[32m━━━━━━━━━━━━━━━━━━━━\u001b[0m\u001b[37m\u001b[0m \u001b[1m0s\u001b[0m 11ms/step - accuracy: 1.0000 - loss: 2.9146e-05 \n",
      "Epoch 68/250\n",
      "\u001b[1m7/7\u001b[0m \u001b[32m━━━━━━━━━━━━━━━━━━━━\u001b[0m\u001b[37m\u001b[0m \u001b[1m0s\u001b[0m 8ms/step - accuracy: 1.0000 - loss: 2.8917e-05 \n",
      "Epoch 69/250\n",
      "\u001b[1m7/7\u001b[0m \u001b[32m━━━━━━━━━━━━━━━━━━━━\u001b[0m\u001b[37m\u001b[0m \u001b[1m0s\u001b[0m 6ms/step - accuracy: 1.0000 - loss: 2.8690e-05 \n",
      "Epoch 70/250\n",
      "\u001b[1m7/7\u001b[0m \u001b[32m━━━━━━━━━━━━━━━━━━━━\u001b[0m\u001b[37m\u001b[0m \u001b[1m0s\u001b[0m 6ms/step - accuracy: 1.0000 - loss: 2.8465e-05 \n",
      "Epoch 71/250\n",
      "\u001b[1m7/7\u001b[0m \u001b[32m━━━━━━━━━━━━━━━━━━━━\u001b[0m\u001b[37m\u001b[0m \u001b[1m0s\u001b[0m 8ms/step - accuracy: 1.0000 - loss: 2.8243e-05 \n",
      "Epoch 72/250\n",
      "\u001b[1m7/7\u001b[0m \u001b[32m━━━━━━━━━━━━━━━━━━━━\u001b[0m\u001b[37m\u001b[0m \u001b[1m0s\u001b[0m 6ms/step - accuracy: 1.0000 - loss: 2.8023e-05 \n",
      "Epoch 73/250\n",
      "\u001b[1m7/7\u001b[0m \u001b[32m━━━━━━━━━━━━━━━━━━━━\u001b[0m\u001b[37m\u001b[0m \u001b[1m0s\u001b[0m 6ms/step - accuracy: 1.0000 - loss: 2.7805e-05 \n",
      "Epoch 74/250\n",
      "\u001b[1m7/7\u001b[0m \u001b[32m━━━━━━━━━━━━━━━━━━━━\u001b[0m\u001b[37m\u001b[0m \u001b[1m0s\u001b[0m 5ms/step - accuracy: 1.0000 - loss: 2.7590e-05 \n",
      "Epoch 75/250\n",
      "\u001b[1m7/7\u001b[0m \u001b[32m━━━━━━━━━━━━━━━━━━━━\u001b[0m\u001b[37m\u001b[0m \u001b[1m0s\u001b[0m 7ms/step - accuracy: 1.0000 - loss: 2.7377e-05 \n",
      "Epoch 76/250\n",
      "\u001b[1m7/7\u001b[0m \u001b[32m━━━━━━━━━━━━━━━━━━━━\u001b[0m\u001b[37m\u001b[0m \u001b[1m0s\u001b[0m 9ms/step - accuracy: 1.0000 - loss: 2.7165e-05 \n",
      "Epoch 77/250\n",
      "\u001b[1m7/7\u001b[0m \u001b[32m━━━━━━━━━━━━━━━━━━━━\u001b[0m\u001b[37m\u001b[0m \u001b[1m0s\u001b[0m 7ms/step - accuracy: 1.0000 - loss: 2.6957e-05 \n",
      "Epoch 78/250\n",
      "\u001b[1m7/7\u001b[0m \u001b[32m━━━━━━━━━━━━━━━━━━━━\u001b[0m\u001b[37m\u001b[0m \u001b[1m0s\u001b[0m 7ms/step - accuracy: 1.0000 - loss: 2.6750e-05 \n",
      "Epoch 79/250\n",
      "\u001b[1m7/7\u001b[0m \u001b[32m━━━━━━━━━━━━━━━━━━━━\u001b[0m\u001b[37m\u001b[0m \u001b[1m0s\u001b[0m 7ms/step - accuracy: 1.0000 - loss: 2.6545e-05 \n",
      "Epoch 80/250\n",
      "\u001b[1m7/7\u001b[0m \u001b[32m━━━━━━━━━━━━━━━━━━━━\u001b[0m\u001b[37m\u001b[0m \u001b[1m0s\u001b[0m 7ms/step - accuracy: 1.0000 - loss: 2.6342e-05 \n",
      "Epoch 81/250\n",
      "\u001b[1m7/7\u001b[0m \u001b[32m━━━━━━━━━━━━━━━━━━━━\u001b[0m\u001b[37m\u001b[0m \u001b[1m0s\u001b[0m 6ms/step - accuracy: 1.0000 - loss: 2.6141e-05 \n",
      "Epoch 82/250\n",
      "\u001b[1m7/7\u001b[0m \u001b[32m━━━━━━━━━━━━━━━━━━━━\u001b[0m\u001b[37m\u001b[0m \u001b[1m0s\u001b[0m 7ms/step - accuracy: 1.0000 - loss: 2.5943e-05 \n",
      "Epoch 83/250\n",
      "\u001b[1m7/7\u001b[0m \u001b[32m━━━━━━━━━━━━━━━━━━━━\u001b[0m\u001b[37m\u001b[0m \u001b[1m0s\u001b[0m 10ms/step - accuracy: 1.0000 - loss: 2.5746e-05\n",
      "Epoch 84/250\n",
      "\u001b[1m7/7\u001b[0m \u001b[32m━━━━━━━━━━━━━━━━━━━━\u001b[0m\u001b[37m\u001b[0m \u001b[1m0s\u001b[0m 9ms/step - accuracy: 1.0000 - loss: 2.5551e-05 \n",
      "Epoch 85/250\n",
      "\u001b[1m7/7\u001b[0m \u001b[32m━━━━━━━━━━━━━━━━━━━━\u001b[0m\u001b[37m\u001b[0m \u001b[1m0s\u001b[0m 8ms/step - accuracy: 1.0000 - loss: 2.5359e-05 \n",
      "Epoch 86/250\n",
      "\u001b[1m7/7\u001b[0m \u001b[32m━━━━━━━━━━━━━━━━━━━━\u001b[0m\u001b[37m\u001b[0m \u001b[1m0s\u001b[0m 8ms/step - accuracy: 1.0000 - loss: 2.5168e-05 \n",
      "Epoch 87/250\n",
      "\u001b[1m7/7\u001b[0m \u001b[32m━━━━━━━━━━━━━━━━━━━━\u001b[0m\u001b[37m\u001b[0m \u001b[1m0s\u001b[0m 8ms/step - accuracy: 1.0000 - loss: 2.4979e-05 \n",
      "Epoch 88/250\n",
      "\u001b[1m7/7\u001b[0m \u001b[32m━━━━━━━━━━━━━━━━━━━━\u001b[0m\u001b[37m\u001b[0m \u001b[1m0s\u001b[0m 6ms/step - accuracy: 1.0000 - loss: 2.4791e-05 \n",
      "Epoch 89/250\n",
      "\u001b[1m7/7\u001b[0m \u001b[32m━━━━━━━━━━━━━━━━━━━━\u001b[0m\u001b[37m\u001b[0m \u001b[1m0s\u001b[0m 8ms/step - accuracy: 1.0000 - loss: 2.4606e-05 \n",
      "Epoch 90/250\n",
      "\u001b[1m7/7\u001b[0m \u001b[32m━━━━━━━━━━━━━━━━━━━━\u001b[0m\u001b[37m\u001b[0m \u001b[1m0s\u001b[0m 8ms/step - accuracy: 1.0000 - loss: 2.4423e-05 \n",
      "Epoch 91/250\n",
      "\u001b[1m7/7\u001b[0m \u001b[32m━━━━━━━━━━━━━━━━━━━━\u001b[0m\u001b[37m\u001b[0m \u001b[1m0s\u001b[0m 8ms/step - accuracy: 1.0000 - loss: 2.4241e-05 \n",
      "Epoch 92/250\n",
      "\u001b[1m7/7\u001b[0m \u001b[32m━━━━━━━━━━━━━━━━━━━━\u001b[0m\u001b[37m\u001b[0m \u001b[1m0s\u001b[0m 8ms/step - accuracy: 1.0000 - loss: 2.4061e-05 \n",
      "Epoch 93/250\n",
      "\u001b[1m7/7\u001b[0m \u001b[32m━━━━━━━━━━━━━━━━━━━━\u001b[0m\u001b[37m\u001b[0m \u001b[1m0s\u001b[0m 19ms/step - accuracy: 1.0000 - loss: 2.3883e-05\n",
      "Epoch 94/250\n",
      "\u001b[1m7/7\u001b[0m \u001b[32m━━━━━━━━━━━━━━━━━━━━\u001b[0m\u001b[37m\u001b[0m \u001b[1m0s\u001b[0m 8ms/step - accuracy: 1.0000 - loss: 2.3706e-05 \n",
      "Epoch 95/250\n",
      "\u001b[1m7/7\u001b[0m \u001b[32m━━━━━━━━━━━━━━━━━━━━\u001b[0m\u001b[37m\u001b[0m \u001b[1m0s\u001b[0m 7ms/step - accuracy: 1.0000 - loss: 2.3531e-05 \n",
      "Epoch 96/250\n",
      "\u001b[1m7/7\u001b[0m \u001b[32m━━━━━━━━━━━━━━━━━━━━\u001b[0m\u001b[37m\u001b[0m \u001b[1m0s\u001b[0m 9ms/step - accuracy: 1.0000 - loss: 2.3358e-05 \n",
      "Epoch 97/250\n",
      "\u001b[1m7/7\u001b[0m \u001b[32m━━━━━━━━━━━━━━━━━━━━\u001b[0m\u001b[37m\u001b[0m \u001b[1m0s\u001b[0m 6ms/step - accuracy: 1.0000 - loss: 2.3187e-05 \n",
      "Epoch 98/250\n",
      "\u001b[1m7/7\u001b[0m \u001b[32m━━━━━━━━━━━━━━━━━━━━\u001b[0m\u001b[37m\u001b[0m \u001b[1m0s\u001b[0m 8ms/step - accuracy: 1.0000 - loss: 2.3017e-05 \n",
      "Epoch 99/250\n",
      "\u001b[1m7/7\u001b[0m \u001b[32m━━━━━━━━━━━━━━━━━━━━\u001b[0m\u001b[37m\u001b[0m \u001b[1m0s\u001b[0m 8ms/step - accuracy: 1.0000 - loss: 2.2849e-05 \n",
      "Epoch 100/250\n",
      "\u001b[1m7/7\u001b[0m \u001b[32m━━━━━━━━━━━━━━━━━━━━\u001b[0m\u001b[37m\u001b[0m \u001b[1m0s\u001b[0m 5ms/step - accuracy: 1.0000 - loss: 2.2682e-05 \n",
      "Epoch 101/250\n",
      "\u001b[1m7/7\u001b[0m \u001b[32m━━━━━━━━━━━━━━━━━━━━\u001b[0m\u001b[37m\u001b[0m \u001b[1m0s\u001b[0m 8ms/step - accuracy: 1.0000 - loss: 2.2517e-05 \n",
      "Epoch 102/250\n",
      "\u001b[1m7/7\u001b[0m \u001b[32m━━━━━━━━━━━━━━━━━━━━\u001b[0m\u001b[37m\u001b[0m \u001b[1m0s\u001b[0m 9ms/step - accuracy: 1.0000 - loss: 2.2354e-05 \n",
      "Epoch 103/250\n",
      "\u001b[1m7/7\u001b[0m \u001b[32m━━━━━━━━━━━━━━━━━━━━\u001b[0m\u001b[37m\u001b[0m \u001b[1m0s\u001b[0m 8ms/step - accuracy: 1.0000 - loss: 2.2192e-05 \n",
      "Epoch 104/250\n",
      "\u001b[1m7/7\u001b[0m \u001b[32m━━━━━━━━━━━━━━━━━━━━\u001b[0m\u001b[37m\u001b[0m \u001b[1m0s\u001b[0m 8ms/step - accuracy: 1.0000 - loss: 2.2031e-05 \n",
      "Epoch 105/250\n",
      "\u001b[1m7/7\u001b[0m \u001b[32m━━━━━━━━━━━━━━━━━━━━\u001b[0m\u001b[37m\u001b[0m \u001b[1m0s\u001b[0m 12ms/step - accuracy: 1.0000 - loss: 2.1872e-05\n",
      "Epoch 106/250\n",
      "\u001b[1m7/7\u001b[0m \u001b[32m━━━━━━━━━━━━━━━━━━━━\u001b[0m\u001b[37m\u001b[0m \u001b[1m0s\u001b[0m 12ms/step - accuracy: 1.0000 - loss: 2.1715e-05\n",
      "Epoch 107/250\n",
      "\u001b[1m7/7\u001b[0m \u001b[32m━━━━━━━━━━━━━━━━━━━━\u001b[0m\u001b[37m\u001b[0m \u001b[1m0s\u001b[0m 7ms/step - accuracy: 1.0000 - loss: 2.1559e-05 \n",
      "Epoch 108/250\n",
      "\u001b[1m7/7\u001b[0m \u001b[32m━━━━━━━━━━━━━━━━━━━━\u001b[0m\u001b[37m\u001b[0m \u001b[1m0s\u001b[0m 7ms/step - accuracy: 1.0000 - loss: 2.1405e-05 \n",
      "Epoch 109/250\n",
      "\u001b[1m7/7\u001b[0m \u001b[32m━━━━━━━━━━━━━━━━━━━━\u001b[0m\u001b[37m\u001b[0m \u001b[1m0s\u001b[0m 4ms/step - accuracy: 1.0000 - loss: 2.1251e-05 \n",
      "Epoch 110/250\n",
      "\u001b[1m7/7\u001b[0m \u001b[32m━━━━━━━━━━━━━━━━━━━━\u001b[0m\u001b[37m\u001b[0m \u001b[1m0s\u001b[0m 8ms/step - accuracy: 1.0000 - loss: 2.1100e-05 \n",
      "Epoch 111/250\n",
      "\u001b[1m7/7\u001b[0m \u001b[32m━━━━━━━━━━━━━━━━━━━━\u001b[0m\u001b[37m\u001b[0m \u001b[1m0s\u001b[0m 7ms/step - accuracy: 1.0000 - loss: 2.0950e-05 \n",
      "Epoch 112/250\n",
      "\u001b[1m7/7\u001b[0m \u001b[32m━━━━━━━━━━━━━━━━━━━━\u001b[0m\u001b[37m\u001b[0m \u001b[1m0s\u001b[0m 8ms/step - accuracy: 1.0000 - loss: 2.0801e-05 \n",
      "Epoch 113/250\n",
      "\u001b[1m7/7\u001b[0m \u001b[32m━━━━━━━━━━━━━━━━━━━━\u001b[0m\u001b[37m\u001b[0m \u001b[1m0s\u001b[0m 6ms/step - accuracy: 1.0000 - loss: 2.0653e-05 \n",
      "Epoch 114/250\n",
      "\u001b[1m7/7\u001b[0m \u001b[32m━━━━━━━━━━━━━━━━━━━━\u001b[0m\u001b[37m\u001b[0m \u001b[1m0s\u001b[0m 6ms/step - accuracy: 1.0000 - loss: 2.0507e-05 \n",
      "Epoch 115/250\n",
      "\u001b[1m7/7\u001b[0m \u001b[32m━━━━━━━━━━━━━━━━━━━━\u001b[0m\u001b[37m\u001b[0m \u001b[1m0s\u001b[0m 6ms/step - accuracy: 1.0000 - loss: 2.0362e-05 \n",
      "Epoch 116/250\n",
      "\u001b[1m7/7\u001b[0m \u001b[32m━━━━━━━━━━━━━━━━━━━━\u001b[0m\u001b[37m\u001b[0m \u001b[1m0s\u001b[0m 8ms/step - accuracy: 1.0000 - loss: 2.0219e-05 \n",
      "Epoch 117/250\n",
      "\u001b[1m7/7\u001b[0m \u001b[32m━━━━━━━━━━━━━━━━━━━━\u001b[0m\u001b[37m\u001b[0m \u001b[1m0s\u001b[0m 6ms/step - accuracy: 1.0000 - loss: 2.0076e-05 \n",
      "Epoch 118/250\n",
      "\u001b[1m7/7\u001b[0m \u001b[32m━━━━━━━━━━━━━━━━━━━━\u001b[0m\u001b[37m\u001b[0m \u001b[1m0s\u001b[0m 8ms/step - accuracy: 1.0000 - loss: 1.9936e-05 \n",
      "Epoch 119/250\n",
      "\u001b[1m7/7\u001b[0m \u001b[32m━━━━━━━━━━━━━━━━━━━━\u001b[0m\u001b[37m\u001b[0m \u001b[1m0s\u001b[0m 6ms/step - accuracy: 1.0000 - loss: 1.9796e-05 \n",
      "Epoch 120/250\n",
      "\u001b[1m7/7\u001b[0m \u001b[32m━━━━━━━━━━━━━━━━━━━━\u001b[0m\u001b[37m\u001b[0m \u001b[1m0s\u001b[0m 10ms/step - accuracy: 1.0000 - loss: 1.9658e-05\n",
      "Epoch 121/250\n",
      "\u001b[1m7/7\u001b[0m \u001b[32m━━━━━━━━━━━━━━━━━━━━\u001b[0m\u001b[37m\u001b[0m \u001b[1m0s\u001b[0m 6ms/step - accuracy: 1.0000 - loss: 1.9520e-05 \n",
      "Epoch 122/250\n",
      "\u001b[1m7/7\u001b[0m \u001b[32m━━━━━━━━━━━━━━━━━━━━\u001b[0m\u001b[37m\u001b[0m \u001b[1m0s\u001b[0m 6ms/step - accuracy: 1.0000 - loss: 1.9384e-05 \n",
      "Epoch 123/250\n",
      "\u001b[1m7/7\u001b[0m \u001b[32m━━━━━━━━━━━━━━━━━━━━\u001b[0m\u001b[37m\u001b[0m \u001b[1m0s\u001b[0m 7ms/step - accuracy: 1.0000 - loss: 1.9250e-05 \n",
      "Epoch 124/250\n",
      "\u001b[1m7/7\u001b[0m \u001b[32m━━━━━━━━━━━━━━━━━━━━\u001b[0m\u001b[37m\u001b[0m \u001b[1m0s\u001b[0m 11ms/step - accuracy: 1.0000 - loss: 1.9116e-05\n",
      "Epoch 125/250\n",
      "\u001b[1m7/7\u001b[0m \u001b[32m━━━━━━━━━━━━━━━━━━━━\u001b[0m\u001b[37m\u001b[0m \u001b[1m0s\u001b[0m 8ms/step - accuracy: 1.0000 - loss: 1.8984e-05 \n",
      "Epoch 126/250\n",
      "\u001b[1m7/7\u001b[0m \u001b[32m━━━━━━━━━━━━━━━━━━━━\u001b[0m\u001b[37m\u001b[0m \u001b[1m0s\u001b[0m 8ms/step - accuracy: 1.0000 - loss: 1.8853e-05 \n",
      "Epoch 127/250\n",
      "\u001b[1m7/7\u001b[0m \u001b[32m━━━━━━━━━━━━━━━━━━━━\u001b[0m\u001b[37m\u001b[0m \u001b[1m0s\u001b[0m 6ms/step - accuracy: 1.0000 - loss: 1.8723e-05 \n",
      "Epoch 128/250\n",
      "\u001b[1m7/7\u001b[0m \u001b[32m━━━━━━━━━━━━━━━━━━━━\u001b[0m\u001b[37m\u001b[0m \u001b[1m0s\u001b[0m 6ms/step - accuracy: 1.0000 - loss: 1.8594e-05 \n",
      "Epoch 129/250\n",
      "\u001b[1m7/7\u001b[0m \u001b[32m━━━━━━━━━━━━━━━━━━━━\u001b[0m\u001b[37m\u001b[0m \u001b[1m0s\u001b[0m 5ms/step - accuracy: 1.0000 - loss: 1.8466e-05 \n",
      "Epoch 130/250\n",
      "\u001b[1m7/7\u001b[0m \u001b[32m━━━━━━━━━━━━━━━━━━━━\u001b[0m\u001b[37m\u001b[0m \u001b[1m0s\u001b[0m 7ms/step - accuracy: 1.0000 - loss: 1.8340e-05 \n",
      "Epoch 131/250\n",
      "\u001b[1m7/7\u001b[0m \u001b[32m━━━━━━━━━━━━━━━━━━━━\u001b[0m\u001b[37m\u001b[0m \u001b[1m0s\u001b[0m 7ms/step - accuracy: 1.0000 - loss: 1.8214e-05 \n",
      "Epoch 132/250\n",
      "\u001b[1m7/7\u001b[0m \u001b[32m━━━━━━━━━━━━━━━━━━━━\u001b[0m\u001b[37m\u001b[0m \u001b[1m0s\u001b[0m 6ms/step - accuracy: 1.0000 - loss: 1.8090e-05 \n",
      "Epoch 133/250\n",
      "\u001b[1m7/7\u001b[0m \u001b[32m━━━━━━━━━━━━━━━━━━━━\u001b[0m\u001b[37m\u001b[0m \u001b[1m0s\u001b[0m 8ms/step - accuracy: 1.0000 - loss: 1.7967e-05 \n",
      "Epoch 134/250\n",
      "\u001b[1m7/7\u001b[0m \u001b[32m━━━━━━━━━━━━━━━━━━━━\u001b[0m\u001b[37m\u001b[0m \u001b[1m0s\u001b[0m 8ms/step - accuracy: 1.0000 - loss: 1.7845e-05 \n",
      "Epoch 135/250\n",
      "\u001b[1m7/7\u001b[0m \u001b[32m━━━━━━━━━━━━━━━━━━━━\u001b[0m\u001b[37m\u001b[0m \u001b[1m0s\u001b[0m 6ms/step - accuracy: 1.0000 - loss: 1.7723e-05 \n",
      "Epoch 136/250\n",
      "\u001b[1m7/7\u001b[0m \u001b[32m━━━━━━━━━━━━━━━━━━━━\u001b[0m\u001b[37m\u001b[0m \u001b[1m0s\u001b[0m 6ms/step - accuracy: 1.0000 - loss: 1.7603e-05 \n",
      "Epoch 137/250\n",
      "\u001b[1m7/7\u001b[0m \u001b[32m━━━━━━━━━━━━━━━━━━━━\u001b[0m\u001b[37m\u001b[0m \u001b[1m0s\u001b[0m 10ms/step - accuracy: 1.0000 - loss: 1.7484e-05\n",
      "Epoch 138/250\n",
      "\u001b[1m7/7\u001b[0m \u001b[32m━━━━━━━━━━━━━━━━━━━━\u001b[0m\u001b[37m\u001b[0m \u001b[1m0s\u001b[0m 6ms/step - accuracy: 1.0000 - loss: 1.7366e-05 \n",
      "Epoch 139/250\n",
      "\u001b[1m7/7\u001b[0m \u001b[32m━━━━━━━━━━━━━━━━━━━━\u001b[0m\u001b[37m\u001b[0m \u001b[1m0s\u001b[0m 8ms/step - accuracy: 1.0000 - loss: 1.7249e-05 \n",
      "Epoch 140/250\n",
      "\u001b[1m7/7\u001b[0m \u001b[32m━━━━━━━━━━━━━━━━━━━━\u001b[0m\u001b[37m\u001b[0m \u001b[1m0s\u001b[0m 12ms/step - accuracy: 1.0000 - loss: 1.7133e-05\n",
      "Epoch 141/250\n",
      "\u001b[1m7/7\u001b[0m \u001b[32m━━━━━━━━━━━━━━━━━━━━\u001b[0m\u001b[37m\u001b[0m \u001b[1m0s\u001b[0m 10ms/step - accuracy: 1.0000 - loss: 1.7018e-05\n",
      "Epoch 142/250\n",
      "\u001b[1m7/7\u001b[0m \u001b[32m━━━━━━━━━━━━━━━━━━━━\u001b[0m\u001b[37m\u001b[0m \u001b[1m0s\u001b[0m 9ms/step - accuracy: 1.0000 - loss: 1.6904e-05 \n",
      "Epoch 143/250\n",
      "\u001b[1m7/7\u001b[0m \u001b[32m━━━━━━━━━━━━━━━━━━━━\u001b[0m\u001b[37m\u001b[0m \u001b[1m0s\u001b[0m 8ms/step - accuracy: 1.0000 - loss: 1.6791e-05 \n",
      "Epoch 144/250\n",
      "\u001b[1m7/7\u001b[0m \u001b[32m━━━━━━━━━━━━━━━━━━━━\u001b[0m\u001b[37m\u001b[0m \u001b[1m0s\u001b[0m 7ms/step - accuracy: 1.0000 - loss: 1.6679e-05 \n",
      "Epoch 145/250\n",
      "\u001b[1m7/7\u001b[0m \u001b[32m━━━━━━━━━━━━━━━━━━━━\u001b[0m\u001b[37m\u001b[0m \u001b[1m0s\u001b[0m 10ms/step - accuracy: 1.0000 - loss: 1.6568e-05\n",
      "Epoch 146/250\n",
      "\u001b[1m7/7\u001b[0m \u001b[32m━━━━━━━━━━━━━━━━━━━━\u001b[0m\u001b[37m\u001b[0m \u001b[1m0s\u001b[0m 10ms/step - accuracy: 1.0000 - loss: 1.6458e-05\n",
      "Epoch 147/250\n",
      "\u001b[1m7/7\u001b[0m \u001b[32m━━━━━━━━━━━━━━━━━━━━\u001b[0m\u001b[37m\u001b[0m \u001b[1m0s\u001b[0m 6ms/step - accuracy: 1.0000 - loss: 1.6348e-05 \n",
      "Epoch 148/250\n",
      "\u001b[1m7/7\u001b[0m \u001b[32m━━━━━━━━━━━━━━━━━━━━\u001b[0m\u001b[37m\u001b[0m \u001b[1m0s\u001b[0m 8ms/step - accuracy: 1.0000 - loss: 1.6240e-05 \n",
      "Epoch 149/250\n",
      "\u001b[1m7/7\u001b[0m \u001b[32m━━━━━━━━━━━━━━━━━━━━\u001b[0m\u001b[37m\u001b[0m \u001b[1m0s\u001b[0m 7ms/step - accuracy: 1.0000 - loss: 1.6133e-05 \n",
      "Epoch 150/250\n",
      "\u001b[1m7/7\u001b[0m \u001b[32m━━━━━━━━━━━━━━━━━━━━\u001b[0m\u001b[37m\u001b[0m \u001b[1m0s\u001b[0m 8ms/step - accuracy: 1.0000 - loss: 1.6026e-05 \n",
      "Epoch 151/250\n",
      "\u001b[1m7/7\u001b[0m \u001b[32m━━━━━━━━━━━━━━━━━━━━\u001b[0m\u001b[37m\u001b[0m \u001b[1m0s\u001b[0m 7ms/step - accuracy: 1.0000 - loss: 1.5920e-05 \n",
      "Epoch 152/250\n",
      "\u001b[1m7/7\u001b[0m \u001b[32m━━━━━━━━━━━━━━━━━━━━\u001b[0m\u001b[37m\u001b[0m \u001b[1m0s\u001b[0m 8ms/step - accuracy: 1.0000 - loss: 1.5816e-05 \n",
      "Epoch 153/250\n",
      "\u001b[1m7/7\u001b[0m \u001b[32m━━━━━━━━━━━━━━━━━━━━\u001b[0m\u001b[37m\u001b[0m \u001b[1m0s\u001b[0m 9ms/step - accuracy: 1.0000 - loss: 1.5712e-05 \n",
      "Epoch 154/250\n",
      "\u001b[1m7/7\u001b[0m \u001b[32m━━━━━━━━━━━━━━━━━━━━\u001b[0m\u001b[37m\u001b[0m \u001b[1m0s\u001b[0m 8ms/step - accuracy: 1.0000 - loss: 1.5609e-05 \n",
      "Epoch 155/250\n",
      "\u001b[1m7/7\u001b[0m \u001b[32m━━━━━━━━━━━━━━━━━━━━\u001b[0m\u001b[37m\u001b[0m \u001b[1m0s\u001b[0m 10ms/step - accuracy: 1.0000 - loss: 1.5506e-05 \n",
      "Epoch 156/250\n",
      "\u001b[1m7/7\u001b[0m \u001b[32m━━━━━━━━━━━━━━━━━━━━\u001b[0m\u001b[37m\u001b[0m \u001b[1m0s\u001b[0m 7ms/step - accuracy: 1.0000 - loss: 1.5405e-05 \n",
      "Epoch 157/250\n",
      "\u001b[1m7/7\u001b[0m \u001b[32m━━━━━━━━━━━━━━━━━━━━\u001b[0m\u001b[37m\u001b[0m \u001b[1m0s\u001b[0m 7ms/step - accuracy: 1.0000 - loss: 1.5305e-05 \n",
      "Epoch 158/250\n",
      "\u001b[1m7/7\u001b[0m \u001b[32m━━━━━━━━━━━━━━━━━━━━\u001b[0m\u001b[37m\u001b[0m \u001b[1m0s\u001b[0m 6ms/step - accuracy: 1.0000 - loss: 1.5205e-05 \n",
      "Epoch 159/250\n",
      "\u001b[1m7/7\u001b[0m \u001b[32m━━━━━━━━━━━━━━━━━━━━\u001b[0m\u001b[37m\u001b[0m \u001b[1m0s\u001b[0m 7ms/step - accuracy: 1.0000 - loss: 1.5106e-05 \n",
      "Epoch 160/250\n",
      "\u001b[1m7/7\u001b[0m \u001b[32m━━━━━━━━━━━━━━━━━━━━\u001b[0m\u001b[37m\u001b[0m \u001b[1m0s\u001b[0m 6ms/step - accuracy: 1.0000 - loss: 1.5008e-05 \n",
      "Epoch 161/250\n",
      "\u001b[1m7/7\u001b[0m \u001b[32m━━━━━━━━━━━━━━━━━━━━\u001b[0m\u001b[37m\u001b[0m \u001b[1m0s\u001b[0m 7ms/step - accuracy: 1.0000 - loss: 1.4911e-05 \n",
      "Epoch 162/250\n",
      "\u001b[1m7/7\u001b[0m \u001b[32m━━━━━━━━━━━━━━━━━━━━\u001b[0m\u001b[37m\u001b[0m \u001b[1m0s\u001b[0m 7ms/step - accuracy: 1.0000 - loss: 1.4814e-05 \n",
      "Epoch 163/250\n",
      "\u001b[1m7/7\u001b[0m \u001b[32m━━━━━━━━━━━━━━━━━━━━\u001b[0m\u001b[37m\u001b[0m \u001b[1m0s\u001b[0m 6ms/step - accuracy: 1.0000 - loss: 1.4719e-05 \n",
      "Epoch 164/250\n",
      "\u001b[1m7/7\u001b[0m \u001b[32m━━━━━━━━━━━━━━━━━━━━\u001b[0m\u001b[37m\u001b[0m \u001b[1m0s\u001b[0m 8ms/step - accuracy: 1.0000 - loss: 1.4624e-05 \n",
      "Epoch 165/250\n",
      "\u001b[1m7/7\u001b[0m \u001b[32m━━━━━━━━━━━━━━━━━━━━\u001b[0m\u001b[37m\u001b[0m \u001b[1m0s\u001b[0m 7ms/step - accuracy: 1.0000 - loss: 1.4530e-05 \n",
      "Epoch 166/250\n",
      "\u001b[1m7/7\u001b[0m \u001b[32m━━━━━━━━━━━━━━━━━━━━\u001b[0m\u001b[37m\u001b[0m \u001b[1m0s\u001b[0m 6ms/step - accuracy: 1.0000 - loss: 1.4436e-05 \n",
      "Epoch 167/250\n",
      "\u001b[1m7/7\u001b[0m \u001b[32m━━━━━━━━━━━━━━━━━━━━\u001b[0m\u001b[37m\u001b[0m \u001b[1m0s\u001b[0m 5ms/step - accuracy: 1.0000 - loss: 1.4344e-05 \n",
      "Epoch 168/250\n",
      "\u001b[1m7/7\u001b[0m \u001b[32m━━━━━━━━━━━━━━━━━━━━\u001b[0m\u001b[37m\u001b[0m \u001b[1m0s\u001b[0m 19ms/step - accuracy: 1.0000 - loss: 1.4252e-05\n",
      "Epoch 169/250\n",
      "\u001b[1m7/7\u001b[0m \u001b[32m━━━━━━━━━━━━━━━━━━━━\u001b[0m\u001b[37m\u001b[0m \u001b[1m0s\u001b[0m 6ms/step - accuracy: 1.0000 - loss: 1.4161e-05 \n",
      "Epoch 170/250\n",
      "\u001b[1m7/7\u001b[0m \u001b[32m━━━━━━━━━━━━━━━━━━━━\u001b[0m\u001b[37m\u001b[0m \u001b[1m0s\u001b[0m 6ms/step - accuracy: 1.0000 - loss: 1.4070e-05 \n",
      "Epoch 171/250\n",
      "\u001b[1m7/7\u001b[0m \u001b[32m━━━━━━━━━━━━━━━━━━━━\u001b[0m\u001b[37m\u001b[0m \u001b[1m0s\u001b[0m 6ms/step - accuracy: 1.0000 - loss: 1.3981e-05 \n",
      "Epoch 172/250\n",
      "\u001b[1m7/7\u001b[0m \u001b[32m━━━━━━━━━━━━━━━━━━━━\u001b[0m\u001b[37m\u001b[0m \u001b[1m0s\u001b[0m 8ms/step - accuracy: 1.0000 - loss: 1.3892e-05 \n",
      "Epoch 173/250\n",
      "\u001b[1m7/7\u001b[0m \u001b[32m━━━━━━━━━━━━━━━━━━━━\u001b[0m\u001b[37m\u001b[0m \u001b[1m0s\u001b[0m 6ms/step - accuracy: 1.0000 - loss: 1.3803e-05 \n",
      "Epoch 174/250\n",
      "\u001b[1m7/7\u001b[0m \u001b[32m━━━━━━━━━━━━━━━━━━━━\u001b[0m\u001b[37m\u001b[0m \u001b[1m0s\u001b[0m 7ms/step - accuracy: 1.0000 - loss: 1.3716e-05 \n",
      "Epoch 175/250\n",
      "\u001b[1m7/7\u001b[0m \u001b[32m━━━━━━━━━━━━━━━━━━━━\u001b[0m\u001b[37m\u001b[0m \u001b[1m0s\u001b[0m 8ms/step - accuracy: 1.0000 - loss: 1.3629e-05 \n",
      "Epoch 176/250\n",
      "\u001b[1m7/7\u001b[0m \u001b[32m━━━━━━━━━━━━━━━━━━━━\u001b[0m\u001b[37m\u001b[0m \u001b[1m0s\u001b[0m 7ms/step - accuracy: 1.0000 - loss: 1.3543e-05 \n",
      "Epoch 177/250\n",
      "\u001b[1m7/7\u001b[0m \u001b[32m━━━━━━━━━━━━━━━━━━━━\u001b[0m\u001b[37m\u001b[0m \u001b[1m0s\u001b[0m 7ms/step - accuracy: 1.0000 - loss: 1.3457e-05 \n",
      "Epoch 178/250\n",
      "\u001b[1m7/7\u001b[0m \u001b[32m━━━━━━━━━━━━━━━━━━━━\u001b[0m\u001b[37m\u001b[0m \u001b[1m0s\u001b[0m 8ms/step - accuracy: 1.0000 - loss: 1.3372e-05 \n",
      "Epoch 179/250\n",
      "\u001b[1m7/7\u001b[0m \u001b[32m━━━━━━━━━━━━━━━━━━━━\u001b[0m\u001b[37m\u001b[0m \u001b[1m0s\u001b[0m 6ms/step - accuracy: 1.0000 - loss: 1.3288e-05 \n",
      "Epoch 180/250\n",
      "\u001b[1m7/7\u001b[0m \u001b[32m━━━━━━━━━━━━━━━━━━━━\u001b[0m\u001b[37m\u001b[0m \u001b[1m0s\u001b[0m 6ms/step - accuracy: 1.0000 - loss: 1.3205e-05 \n",
      "Epoch 181/250\n",
      "\u001b[1m7/7\u001b[0m \u001b[32m━━━━━━━━━━━━━━━━━━━━\u001b[0m\u001b[37m\u001b[0m \u001b[1m0s\u001b[0m 10ms/step - accuracy: 1.0000 - loss: 1.3122e-05\n",
      "Epoch 182/250\n",
      "\u001b[1m7/7\u001b[0m \u001b[32m━━━━━━━━━━━━━━━━━━━━\u001b[0m\u001b[37m\u001b[0m \u001b[1m0s\u001b[0m 9ms/step - accuracy: 1.0000 - loss: 1.3040e-05 \n",
      "Epoch 183/250\n",
      "\u001b[1m7/7\u001b[0m \u001b[32m━━━━━━━━━━━━━━━━━━━━\u001b[0m\u001b[37m\u001b[0m \u001b[1m0s\u001b[0m 6ms/step - accuracy: 1.0000 - loss: 1.2958e-05 \n",
      "Epoch 184/250\n",
      "\u001b[1m7/7\u001b[0m \u001b[32m━━━━━━━━━━━━━━━━━━━━\u001b[0m\u001b[37m\u001b[0m \u001b[1m0s\u001b[0m 6ms/step - accuracy: 1.0000 - loss: 1.2877e-05 \n",
      "Epoch 185/250\n",
      "\u001b[1m7/7\u001b[0m \u001b[32m━━━━━━━━━━━━━━━━━━━━\u001b[0m\u001b[37m\u001b[0m \u001b[1m0s\u001b[0m 6ms/step - accuracy: 1.0000 - loss: 1.2797e-05 \n",
      "Epoch 186/250\n",
      "\u001b[1m7/7\u001b[0m \u001b[32m━━━━━━━━━━━━━━━━━━━━\u001b[0m\u001b[37m\u001b[0m \u001b[1m0s\u001b[0m 8ms/step - accuracy: 1.0000 - loss: 1.2717e-05 \n",
      "Epoch 187/250\n",
      "\u001b[1m7/7\u001b[0m \u001b[32m━━━━━━━━━━━━━━━━━━━━\u001b[0m\u001b[37m\u001b[0m \u001b[1m0s\u001b[0m 9ms/step - accuracy: 1.0000 - loss: 1.2638e-05 \n",
      "Epoch 188/250\n",
      "\u001b[1m7/7\u001b[0m \u001b[32m━━━━━━━━━━━━━━━━━━━━\u001b[0m\u001b[37m\u001b[0m \u001b[1m0s\u001b[0m 5ms/step - accuracy: 1.0000 - loss: 1.2560e-05 \n",
      "Epoch 189/250\n",
      "\u001b[1m7/7\u001b[0m \u001b[32m━━━━━━━━━━━━━━━━━━━━\u001b[0m\u001b[37m\u001b[0m \u001b[1m0s\u001b[0m 6ms/step - accuracy: 1.0000 - loss: 1.2482e-05 \n",
      "Epoch 190/250\n",
      "\u001b[1m7/7\u001b[0m \u001b[32m━━━━━━━━━━━━━━━━━━━━\u001b[0m\u001b[37m\u001b[0m \u001b[1m0s\u001b[0m 5ms/step - accuracy: 1.0000 - loss: 1.2405e-05 \n",
      "Epoch 191/250\n",
      "\u001b[1m7/7\u001b[0m \u001b[32m━━━━━━━━━━━━━━━━━━━━\u001b[0m\u001b[37m\u001b[0m \u001b[1m0s\u001b[0m 6ms/step - accuracy: 1.0000 - loss: 1.2328e-05 \n",
      "Epoch 192/250\n",
      "\u001b[1m7/7\u001b[0m \u001b[32m━━━━━━━━━━━━━━━━━━━━\u001b[0m\u001b[37m\u001b[0m \u001b[1m0s\u001b[0m 8ms/step - accuracy: 1.0000 - loss: 1.2252e-05 \n",
      "Epoch 193/250\n",
      "\u001b[1m7/7\u001b[0m \u001b[32m━━━━━━━━━━━━━━━━━━━━\u001b[0m\u001b[37m\u001b[0m \u001b[1m0s\u001b[0m 8ms/step - accuracy: 1.0000 - loss: 1.2176e-05 \n",
      "Epoch 194/250\n",
      "\u001b[1m7/7\u001b[0m \u001b[32m━━━━━━━━━━━━━━━━━━━━\u001b[0m\u001b[37m\u001b[0m \u001b[1m0s\u001b[0m 22ms/step - accuracy: 1.0000 - loss: 1.2101e-05\n",
      "Epoch 195/250\n",
      "\u001b[1m7/7\u001b[0m \u001b[32m━━━━━━━━━━━━━━━━━━━━\u001b[0m\u001b[37m\u001b[0m \u001b[1m0s\u001b[0m 8ms/step - accuracy: 1.0000 - loss: 1.2027e-05 \n",
      "Epoch 196/250\n",
      "\u001b[1m7/7\u001b[0m \u001b[32m━━━━━━━━━━━━━━━━━━━━\u001b[0m\u001b[37m\u001b[0m \u001b[1m0s\u001b[0m 6ms/step - accuracy: 1.0000 - loss: 1.1953e-05 \n",
      "Epoch 197/250\n",
      "\u001b[1m7/7\u001b[0m \u001b[32m━━━━━━━━━━━━━━━━━━━━\u001b[0m\u001b[37m\u001b[0m \u001b[1m0s\u001b[0m 8ms/step - accuracy: 1.0000 - loss: 1.1880e-05 \n",
      "Epoch 198/250\n",
      "\u001b[1m7/7\u001b[0m \u001b[32m━━━━━━━━━━━━━━━━━━━━\u001b[0m\u001b[37m\u001b[0m \u001b[1m0s\u001b[0m 7ms/step - accuracy: 1.0000 - loss: 1.1807e-05 \n",
      "Epoch 199/250\n",
      "\u001b[1m7/7\u001b[0m \u001b[32m━━━━━━━━━━━━━━━━━━━━\u001b[0m\u001b[37m\u001b[0m \u001b[1m0s\u001b[0m 6ms/step - accuracy: 1.0000 - loss: 1.1735e-05 \n",
      "Epoch 200/250\n",
      "\u001b[1m7/7\u001b[0m \u001b[32m━━━━━━━━━━━━━━━━━━━━\u001b[0m\u001b[37m\u001b[0m \u001b[1m0s\u001b[0m 7ms/step - accuracy: 1.0000 - loss: 1.1664e-05 \n",
      "Epoch 201/250\n",
      "\u001b[1m7/7\u001b[0m \u001b[32m━━━━━━━━━━━━━━━━━━━━\u001b[0m\u001b[37m\u001b[0m \u001b[1m0s\u001b[0m 6ms/step - accuracy: 1.0000 - loss: 1.1593e-05 \n",
      "Epoch 202/250\n",
      "\u001b[1m7/7\u001b[0m \u001b[32m━━━━━━━━━━━━━━━━━━━━\u001b[0m\u001b[37m\u001b[0m \u001b[1m0s\u001b[0m 6ms/step - accuracy: 1.0000 - loss: 1.1522e-05 \n",
      "Epoch 203/250\n",
      "\u001b[1m7/7\u001b[0m \u001b[32m━━━━━━━━━━━━━━━━━━━━\u001b[0m\u001b[37m\u001b[0m \u001b[1m0s\u001b[0m 7ms/step - accuracy: 1.0000 - loss: 1.1452e-05 \n",
      "Epoch 204/250\n",
      "\u001b[1m7/7\u001b[0m \u001b[32m━━━━━━━━━━━━━━━━━━━━\u001b[0m\u001b[37m\u001b[0m \u001b[1m0s\u001b[0m 6ms/step - accuracy: 1.0000 - loss: 1.1383e-05 \n",
      "Epoch 205/250\n",
      "\u001b[1m7/7\u001b[0m \u001b[32m━━━━━━━━━━━━━━━━━━━━\u001b[0m\u001b[37m\u001b[0m \u001b[1m0s\u001b[0m 6ms/step - accuracy: 1.0000 - loss: 1.1314e-05 \n",
      "Epoch 206/250\n",
      "\u001b[1m7/7\u001b[0m \u001b[32m━━━━━━━━━━━━━━━━━━━━\u001b[0m\u001b[37m\u001b[0m \u001b[1m0s\u001b[0m 6ms/step - accuracy: 1.0000 - loss: 1.1245e-05 \n",
      "Epoch 207/250\n",
      "\u001b[1m7/7\u001b[0m \u001b[32m━━━━━━━━━━━━━━━━━━━━\u001b[0m\u001b[37m\u001b[0m \u001b[1m0s\u001b[0m 7ms/step - accuracy: 1.0000 - loss: 1.1177e-05 \n",
      "Epoch 208/250\n",
      "\u001b[1m7/7\u001b[0m \u001b[32m━━━━━━━━━━━━━━━━━━━━\u001b[0m\u001b[37m\u001b[0m \u001b[1m0s\u001b[0m 11ms/step - accuracy: 1.0000 - loss: 1.1110e-05 \n",
      "Epoch 209/250\n",
      "\u001b[1m7/7\u001b[0m \u001b[32m━━━━━━━━━━━━━━━━━━━━\u001b[0m\u001b[37m\u001b[0m \u001b[1m0s\u001b[0m 7ms/step - accuracy: 1.0000 - loss: 1.1043e-05 \n",
      "Epoch 210/250\n",
      "\u001b[1m7/7\u001b[0m \u001b[32m━━━━━━━━━━━━━━━━━━━━\u001b[0m\u001b[37m\u001b[0m \u001b[1m0s\u001b[0m 7ms/step - accuracy: 1.0000 - loss: 1.0977e-05 \n",
      "Epoch 211/250\n",
      "\u001b[1m7/7\u001b[0m \u001b[32m━━━━━━━━━━━━━━━━━━━━\u001b[0m\u001b[37m\u001b[0m \u001b[1m0s\u001b[0m 7ms/step - accuracy: 1.0000 - loss: 1.0911e-05 \n",
      "Epoch 212/250\n",
      "\u001b[1m7/7\u001b[0m \u001b[32m━━━━━━━━━━━━━━━━━━━━\u001b[0m\u001b[37m\u001b[0m \u001b[1m0s\u001b[0m 7ms/step - accuracy: 1.0000 - loss: 1.0845e-05 \n",
      "Epoch 213/250\n",
      "\u001b[1m7/7\u001b[0m \u001b[32m━━━━━━━━━━━━━━━━━━━━\u001b[0m\u001b[37m\u001b[0m \u001b[1m0s\u001b[0m 7ms/step - accuracy: 1.0000 - loss: 1.0780e-05 \n",
      "Epoch 214/250\n",
      "\u001b[1m7/7\u001b[0m \u001b[32m━━━━━━━━━━━━━━━━━━━━\u001b[0m\u001b[37m\u001b[0m \u001b[1m0s\u001b[0m 7ms/step - accuracy: 1.0000 - loss: 1.0716e-05 \n",
      "Epoch 215/250\n",
      "\u001b[1m7/7\u001b[0m \u001b[32m━━━━━━━━━━━━━━━━━━━━\u001b[0m\u001b[37m\u001b[0m \u001b[1m0s\u001b[0m 6ms/step - accuracy: 1.0000 - loss: 1.0652e-05 \n",
      "Epoch 216/250\n",
      "\u001b[1m7/7\u001b[0m \u001b[32m━━━━━━━━━━━━━━━━━━━━\u001b[0m\u001b[37m\u001b[0m \u001b[1m0s\u001b[0m 7ms/step - accuracy: 1.0000 - loss: 1.0588e-05 \n",
      "Epoch 217/250\n",
      "\u001b[1m7/7\u001b[0m \u001b[32m━━━━━━━━━━━━━━━━━━━━\u001b[0m\u001b[37m\u001b[0m \u001b[1m0s\u001b[0m 6ms/step - accuracy: 1.0000 - loss: 1.0525e-05 \n",
      "Epoch 218/250\n",
      "\u001b[1m7/7\u001b[0m \u001b[32m━━━━━━━━━━━━━━━━━━━━\u001b[0m\u001b[37m\u001b[0m \u001b[1m0s\u001b[0m 7ms/step - accuracy: 1.0000 - loss: 1.0462e-05 \n",
      "Epoch 219/250\n",
      "\u001b[1m7/7\u001b[0m \u001b[32m━━━━━━━━━━━━━━━━━━━━\u001b[0m\u001b[37m\u001b[0m \u001b[1m0s\u001b[0m 7ms/step - accuracy: 1.0000 - loss: 1.0400e-05 \n",
      "Epoch 220/250\n",
      "\u001b[1m7/7\u001b[0m \u001b[32m━━━━━━━━━━━━━━━━━━━━\u001b[0m\u001b[37m\u001b[0m \u001b[1m0s\u001b[0m 20ms/step - accuracy: 1.0000 - loss: 1.0338e-05\n",
      "Epoch 221/250\n",
      "\u001b[1m7/7\u001b[0m \u001b[32m━━━━━━━━━━━━━━━━━━━━\u001b[0m\u001b[37m\u001b[0m \u001b[1m0s\u001b[0m 8ms/step - accuracy: 1.0000 - loss: 1.0277e-05 \n",
      "Epoch 222/250\n",
      "\u001b[1m7/7\u001b[0m \u001b[32m━━━━━━━━━━━━━━━━━━━━\u001b[0m\u001b[37m\u001b[0m \u001b[1m0s\u001b[0m 5ms/step - accuracy: 1.0000 - loss: 1.0216e-05 \n",
      "Epoch 223/250\n",
      "\u001b[1m7/7\u001b[0m \u001b[32m━━━━━━━━━━━━━━━━━━━━\u001b[0m\u001b[37m\u001b[0m \u001b[1m0s\u001b[0m 7ms/step - accuracy: 1.0000 - loss: 1.0156e-05 \n",
      "Epoch 224/250\n",
      "\u001b[1m7/7\u001b[0m \u001b[32m━━━━━━━━━━━━━━━━━━━━\u001b[0m\u001b[37m\u001b[0m \u001b[1m0s\u001b[0m 7ms/step - accuracy: 1.0000 - loss: 1.0096e-05 \n",
      "Epoch 225/250\n",
      "\u001b[1m7/7\u001b[0m \u001b[32m━━━━━━━━━━━━━━━━━━━━\u001b[0m\u001b[37m\u001b[0m \u001b[1m0s\u001b[0m 7ms/step - accuracy: 1.0000 - loss: 1.0036e-05 \n",
      "Epoch 226/250\n",
      "\u001b[1m7/7\u001b[0m \u001b[32m━━━━━━━━━━━━━━━━━━━━\u001b[0m\u001b[37m\u001b[0m \u001b[1m0s\u001b[0m 6ms/step - accuracy: 1.0000 - loss: 9.9773e-06 \n",
      "Epoch 227/250\n",
      "\u001b[1m7/7\u001b[0m \u001b[32m━━━━━━━━━━━━━━━━━━━━\u001b[0m\u001b[37m\u001b[0m \u001b[1m0s\u001b[0m 6ms/step - accuracy: 1.0000 - loss: 9.9186e-06 \n",
      "Epoch 228/250\n",
      "\u001b[1m7/7\u001b[0m \u001b[32m━━━━━━━━━━━━━━━━━━━━\u001b[0m\u001b[37m\u001b[0m \u001b[1m0s\u001b[0m 6ms/step - accuracy: 1.0000 - loss: 9.8603e-06 \n",
      "Epoch 229/250\n",
      "\u001b[1m7/7\u001b[0m \u001b[32m━━━━━━━━━━━━━━━━━━━━\u001b[0m\u001b[37m\u001b[0m \u001b[1m0s\u001b[0m 6ms/step - accuracy: 1.0000 - loss: 9.8025e-06 \n",
      "Epoch 230/250\n",
      "\u001b[1m7/7\u001b[0m \u001b[32m━━━━━━━━━━━━━━━━━━━━\u001b[0m\u001b[37m\u001b[0m \u001b[1m0s\u001b[0m 7ms/step - accuracy: 1.0000 - loss: 9.7451e-06 \n",
      "Epoch 231/250\n",
      "\u001b[1m7/7\u001b[0m \u001b[32m━━━━━━━━━━━━━━━━━━━━\u001b[0m\u001b[37m\u001b[0m \u001b[1m0s\u001b[0m 6ms/step - accuracy: 1.0000 - loss: 9.6880e-06 \n",
      "Epoch 232/250\n",
      "\u001b[1m7/7\u001b[0m \u001b[32m━━━━━━━━━━━━━━━━━━━━\u001b[0m\u001b[37m\u001b[0m \u001b[1m0s\u001b[0m 6ms/step - accuracy: 1.0000 - loss: 9.6314e-06 \n",
      "Epoch 233/250\n",
      "\u001b[1m7/7\u001b[0m \u001b[32m━━━━━━━━━━━━━━━━━━━━\u001b[0m\u001b[37m\u001b[0m \u001b[1m0s\u001b[0m 7ms/step - accuracy: 1.0000 - loss: 9.5752e-06 \n",
      "Epoch 234/250\n",
      "\u001b[1m7/7\u001b[0m \u001b[32m━━━━━━━━━━━━━━━━━━━━\u001b[0m\u001b[37m\u001b[0m \u001b[1m0s\u001b[0m 9ms/step - accuracy: 1.0000 - loss: 9.5194e-06  \n",
      "Epoch 235/250\n",
      "\u001b[1m7/7\u001b[0m \u001b[32m━━━━━━━━━━━━━━━━━━━━\u001b[0m\u001b[37m\u001b[0m \u001b[1m0s\u001b[0m 7ms/step - accuracy: 1.0000 - loss: 9.4640e-06 \n",
      "Epoch 236/250\n",
      "\u001b[1m7/7\u001b[0m \u001b[32m━━━━━━━━━━━━━━━━━━━━\u001b[0m\u001b[37m\u001b[0m \u001b[1m0s\u001b[0m 6ms/step - accuracy: 1.0000 - loss: 9.4089e-06 \n",
      "Epoch 237/250\n",
      "\u001b[1m7/7\u001b[0m \u001b[32m━━━━━━━━━━━━━━━━━━━━\u001b[0m\u001b[37m\u001b[0m \u001b[1m0s\u001b[0m 7ms/step - accuracy: 1.0000 - loss: 9.3543e-06 \n",
      "Epoch 238/250\n",
      "\u001b[1m7/7\u001b[0m \u001b[32m━━━━━━━━━━━━━━━━━━━━\u001b[0m\u001b[37m\u001b[0m \u001b[1m0s\u001b[0m 6ms/step - accuracy: 1.0000 - loss: 9.3000e-06 \n",
      "Epoch 239/250\n",
      "\u001b[1m7/7\u001b[0m \u001b[32m━━━━━━━━━━━━━━━━━━━━\u001b[0m\u001b[37m\u001b[0m \u001b[1m0s\u001b[0m 6ms/step - accuracy: 1.0000 - loss: 9.2461e-06 \n",
      "Epoch 240/250\n",
      "\u001b[1m7/7\u001b[0m \u001b[32m━━━━━━━━━━━━━━━━━━━━\u001b[0m\u001b[37m\u001b[0m \u001b[1m0s\u001b[0m 5ms/step - accuracy: 1.0000 - loss: 9.1927e-06 \n",
      "Epoch 241/250\n",
      "\u001b[1m7/7\u001b[0m \u001b[32m━━━━━━━━━━━━━━━━━━━━\u001b[0m\u001b[37m\u001b[0m \u001b[1m0s\u001b[0m 6ms/step - accuracy: 1.0000 - loss: 9.1395e-06 \n",
      "Epoch 242/250\n",
      "\u001b[1m7/7\u001b[0m \u001b[32m━━━━━━━━━━━━━━━━━━━━\u001b[0m\u001b[37m\u001b[0m \u001b[1m0s\u001b[0m 7ms/step - accuracy: 1.0000 - loss: 9.0868e-06 \n",
      "Epoch 243/250\n",
      "\u001b[1m7/7\u001b[0m \u001b[32m━━━━━━━━━━━━━━━━━━━━\u001b[0m\u001b[37m\u001b[0m \u001b[1m0s\u001b[0m 6ms/step - accuracy: 1.0000 - loss: 9.0344e-06 \n",
      "Epoch 244/250\n",
      "\u001b[1m7/7\u001b[0m \u001b[32m━━━━━━━━━━━━━━━━━━━━\u001b[0m\u001b[37m\u001b[0m \u001b[1m0s\u001b[0m 9ms/step - accuracy: 1.0000 - loss: 8.9824e-06 \n",
      "Epoch 245/250\n",
      "\u001b[1m7/7\u001b[0m \u001b[32m━━━━━━━━━━━━━━━━━━━━\u001b[0m\u001b[37m\u001b[0m \u001b[1m0s\u001b[0m 6ms/step - accuracy: 1.0000 - loss: 8.9307e-06 \n",
      "Epoch 246/250\n",
      "\u001b[1m7/7\u001b[0m \u001b[32m━━━━━━━━━━━━━━━━━━━━\u001b[0m\u001b[37m\u001b[0m \u001b[1m0s\u001b[0m 12ms/step - accuracy: 1.0000 - loss: 8.8794e-06\n",
      "Epoch 247/250\n",
      "\u001b[1m7/7\u001b[0m \u001b[32m━━━━━━━━━━━━━━━━━━━━\u001b[0m\u001b[37m\u001b[0m \u001b[1m0s\u001b[0m 9ms/step - accuracy: 1.0000 - loss: 8.8285e-06 \n",
      "Epoch 248/250\n",
      "\u001b[1m7/7\u001b[0m \u001b[32m━━━━━━━━━━━━━━━━━━━━\u001b[0m\u001b[37m\u001b[0m \u001b[1m0s\u001b[0m 6ms/step - accuracy: 1.0000 - loss: 8.7779e-06 \n",
      "Epoch 249/250\n",
      "\u001b[1m7/7\u001b[0m \u001b[32m━━━━━━━━━━━━━━━━━━━━\u001b[0m\u001b[37m\u001b[0m \u001b[1m0s\u001b[0m 7ms/step - accuracy: 1.0000 - loss: 8.7277e-06 \n",
      "Epoch 250/250\n",
      "\u001b[1m7/7\u001b[0m \u001b[32m━━━━━━━━━━━━━━━━━━━━\u001b[0m\u001b[37m\u001b[0m \u001b[1m0s\u001b[0m 7ms/step - accuracy: 1.0000 - loss: 8.6777e-06 \n"
     ]
    },
    {
     "data": {
      "text/plain": [
       "<keras.src.callbacks.history.History at 0x1997fbed7c0>"
      ]
     },
     "execution_count": 94,
     "metadata": {},
     "output_type": "execute_result"
    }
   ],
   "source": [
    "model.fit(X_train, y_train, epochs=250)"
   ]
  },
  {
   "cell_type": "markdown",
   "id": "113749bf-b38b-440c-b24e-0b4d19768daa",
   "metadata": {},
   "source": [
    "The model was compiled with an appropriate optimizer, a loss function, and an evaluation metric. After compiling the model, it was fitted on the training set, and the epoch count was set to 250. It is observed that the accuracy improved over the 250 epochs. "
   ]
  },
  {
   "cell_type": "markdown",
   "id": "eed1dbff-a551-4e57-b4cb-262cd510220c",
   "metadata": {},
   "source": [
    "#### Model Evaluation"
   ]
  },
  {
   "cell_type": "code",
   "execution_count": 97,
   "id": "81d60b2f-4a5c-456a-a4d6-a5236aead8cb",
   "metadata": {},
   "outputs": [
    {
     "name": "stdout",
     "output_type": "stream",
     "text": [
      "\u001b[1m7/7\u001b[0m \u001b[32m━━━━━━━━━━━━━━━━━━━━\u001b[0m\u001b[37m\u001b[0m \u001b[1m0s\u001b[0m 8ms/step - accuracy: 1.0000 - loss: 1.0125e-05 \n"
     ]
    },
    {
     "data": {
      "text/plain": [
       "[8.837771019898355e-06, 1.0]"
      ]
     },
     "execution_count": 97,
     "metadata": {},
     "output_type": "execute_result"
    }
   ],
   "source": [
    "model.evaluate(X_train, y_train)"
   ]
  },
  {
   "cell_type": "code",
   "execution_count": 100,
   "id": "4faf25a5-6963-4835-959b-fc4eed10c07e",
   "metadata": {},
   "outputs": [
    {
     "name": "stdout",
     "output_type": "stream",
     "text": [
      "\u001b[1m3/3\u001b[0m \u001b[32m━━━━━━━━━━━━━━━━━━━━\u001b[0m\u001b[37m\u001b[0m \u001b[1m0s\u001b[0m 14ms/step - accuracy: 1.0000 - loss: 8.2486e-06\n"
     ]
    },
    {
     "data": {
      "text/plain": [
       "[7.649793587916065e-06, 1.0]"
      ]
     },
     "execution_count": 100,
     "metadata": {},
     "output_type": "execute_result"
    }
   ],
   "source": [
    "model.evaluate(X_test, y_test)"
   ]
  },
  {
   "cell_type": "markdown",
   "id": "41edacf9-94f4-4a9a-935f-d194615fec0f",
   "metadata": {},
   "source": [
    "The model evaluation output shows the performance of the model on both training and test data. The accuracy was approximately 98% on the training data and 91% on the test data. Ideally, the higher the accuracy value, the better the model is performing. It's noteworthy that the training and test set accuracies are close to each other, which shows that there is consistency and that the accuracy doesn't drop too much when we test the model on unseen data."
   ]
  },
  {
   "cell_type": "markdown",
   "id": "db80407a-d3a8-4083-be31-927e6c690f38",
   "metadata": {},
   "source": [
    "#### Conclusion\n",
    "\n",
    "In this project, I have built Deep Learning Classification models using the deep learning framework, Keras, in TensorFlow. I used a real-world IPO dataset and built a classifier algorithm to predict whether an IPO will list at profit or not.\n",
    "\n",
    "The accuracy was approximately 98% on the training data and 91% on the test data. The accuracy is consistent across the training and test datasets, which is a promising sign. "
   ]
  }
 ],
 "metadata": {
  "kernelspec": {
   "display_name": "Python 3 (ipykernel)",
   "language": "python",
   "name": "python3"
  },
  "language_info": {
   "codemirror_mode": {
    "name": "ipython",
    "version": 3
   },
   "file_extension": ".py",
   "mimetype": "text/x-python",
   "name": "python",
   "nbconvert_exporter": "python",
   "pygments_lexer": "ipython3",
   "version": "3.12.7"
  }
 },
 "nbformat": 4,
 "nbformat_minor": 5
}
